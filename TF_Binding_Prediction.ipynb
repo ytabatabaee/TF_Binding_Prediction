{
 "cells": [
  {
   "cell_type": "markdown",
   "id": "76eece37",
   "metadata": {},
   "source": [
    "# 1. Overview"
   ]
  },
  {
   "cell_type": "markdown",
   "id": "c7195e1a",
   "metadata": {},
   "source": [
    "# 2. Datasets"
   ]
  },
  {
   "cell_type": "markdown",
   "id": "6a0e17e1",
   "metadata": {},
   "source": [
    "# 3. Implementation"
   ]
  },
  {
   "cell_type": "markdown",
   "id": "186416c4",
   "metadata": {},
   "source": [
    "## 3. 1 Setup"
   ]
  },
  {
   "cell_type": "markdown",
   "id": "c4a569ec",
   "metadata": {},
   "source": [
    "### 3.1.1 Importing libraries"
   ]
  },
  {
   "cell_type": "code",
   "execution_count": null,
   "id": "bf5857a0",
   "metadata": {},
   "outputs": [],
   "source": [
    "import numpy as np\n",
    "import pandas as pd\n",
    "import matplotlib.pyplot as plt\n",
    "import torch\n",
    "import pickle\n",
    "import json\n",
    "import itertools\n",
    "import torch.nn as nn\n",
    "import torch.nn.functional as F\n",
    "from torch.utils.data import Dataset, DataLoader\n",
    "from tqdm.auto import tqdm, trange"
   ]
  },
  {
   "cell_type": "code",
   "execution_count": null,
   "id": "f94a29ed",
   "metadata": {},
   "outputs": [],
   "source": [
    "if torch.cuda.is_available():\n",
    "    device = torch.device(\"cuda:0\")\n",
    "    print(\"Running on the GPU\")\n",
    "else:\n",
    "    device = torch.device(\"cpu\")\n",
    "    print(\"Running on the CPU\")"
   ]
  },
  {
   "cell_type": "markdown",
   "id": "886f08b6",
   "metadata": {},
   "source": [
    "### 3.1.2 Loading Data"
   ]
  },
  {
   "cell_type": "code",
   "execution_count": null,
   "id": "ea48f945",
   "metadata": {},
   "outputs": [],
   "source": [
    "from google.colab import drive\n",
    "drive.mount('/content/drive')\n",
    "\n",
    "%cd drive/My\\ Drive\n",
    "!unzip data.zip"
   ]
  },
  {
   "cell_type": "markdown",
   "id": "b3018b24",
   "metadata": {},
   "source": [
    "### 3.1.2 Reading Data"
   ]
  },
  {
   "cell_type": "code",
   "execution_count": null,
   "id": "132cb107",
   "metadata": {},
   "outputs": [],
   "source": [
    "class TFBindingDataset(Dataset):\n",
    "    def __init__(self, dataset_path):\n",
    "        super(TFBindingDataset, self).__init__()\n",
    "        return\n",
    "        \n",
    "\n",
    "    def __getitem__(self, index):\n",
    "        return\n",
    "\n",
    "    def __len__(self):\n",
    "        return len(self.indices)\n"
   ]
  },
  {
   "cell_type": "markdown",
   "id": "2d050128",
   "metadata": {},
   "source": [
    "## 3. 2 Model"
   ]
  },
  {
   "cell_type": "code",
   "execution_count": null,
   "id": "035fc58a",
   "metadata": {},
   "outputs": [],
   "source": []
  },
  {
   "cell_type": "markdown",
   "id": "25271f54",
   "metadata": {},
   "source": [
    "## 3.3 Plots & Evaluation Functions"
   ]
  },
  {
   "cell_type": "code",
   "execution_count": null,
   "id": "70c818bf",
   "metadata": {},
   "outputs": [],
   "source": []
  },
  {
   "cell_type": "markdown",
   "id": "b3d56d93",
   "metadata": {},
   "source": [
    "## 3.4 Training & Test"
   ]
  },
  {
   "cell_type": "code",
   "execution_count": null,
   "id": "aa3cb443",
   "metadata": {},
   "outputs": [],
   "source": [
    "def train(net, train_loader, val_loader, optimizer, criterion, epoch_num=100):\n",
    "    train_log = []\n",
    "    val_log = []\n",
    "\n",
    "    for epoch in range(1, epoch_num+1):\n",
    "        train_loss = []\n",
    "        net.train()\n",
    "        for (xd_input, xt_input, labels) in tqdm(train_loader, desc='Training epoch ' + str(epoch), leave=False):        \n",
    "            xd_input, xt_input, labels = xd_input.to(device), xt_input.to(device), labels.to(device)        \n",
    "            optimizer.zero_grad()\n",
    "            outputs = net(xd_input.long(), xt_input.long())\n",
    "            loss = criterion(outputs.float(), labels.float())      \n",
    "            loss.backward()                \n",
    "            optimizer.step()        \n",
    "            train_loss.append(loss.item())\n",
    "        train_log.append(np.mean(train_loss))\n",
    "        print('============ epoch %d =============' %epoch)\n",
    "        print('train loss: %.3f' % np.mean(train_loss), flush=True, end='')\n",
    "\n",
    "        test_loss = []\n",
    "        net.eval()\n",
    "        with torch.no_grad():                \n",
    "            for (xd_input, xt_input, labels) in tqdm(val_loader, desc='Validation ', leave=False):         \n",
    "                xd_input, xt_input, labels = xd_input.to(device), xt_input.to(device), labels.to(device)        \n",
    "                outputs = net(xd_input.long(), xt_input.long())\n",
    "                loss = criterion(outputs.float(), labels.float())            \n",
    "                test_loss.append(loss.item())\n",
    "        val_log.append(np.mean(test_loss)) \n",
    "        print('validation loss: %.3f' % np.mean(test_loss), flush=True, end='')\n",
    "    return train_log, val_log"
   ]
  },
  {
   "cell_type": "code",
   "execution_count": null,
   "id": "b3f59a53",
   "metadata": {},
   "outputs": [],
   "source": [
    "def test(net, test_loader):\n",
    "    y_true = []\n",
    "    y_pred = []\n",
    "    net.eval()\n",
    "    with torch.no_grad():                \n",
    "        for (xd_input, xt_input, labels) in tqdm(test_loader, desc='Test ', leave=False):         \n",
    "            xd_input, xt_input, labels = xd_input.to(device), xt_input.to(device), labels.to(device)        \n",
    "            outputs = net(xd_input.long(), xt_input.long())\n",
    "            y_true.extend(labels.float().detach().cpu().numpy())\n",
    "            y_pred.extend(outputs.float().detach().cpu().numpy())\n",
    "    y_true = np.array(y_true)\n",
    "    y_pred = np.array(y_pred)\n",
    "    return y_true, y_pred"
   ]
  },
  {
   "cell_type": "markdown",
   "id": "725a467b",
   "metadata": {},
   "source": [
    "# 4. Results"
   ]
  },
  {
   "cell_type": "code",
   "execution_count": null,
   "id": "30f41570",
   "metadata": {},
   "outputs": [],
   "source": []
  }
 ],
 "metadata": {
  "kernelspec": {
   "display_name": "Python 3 (ipykernel)",
   "language": "python",
   "name": "python3"
  },
  "language_info": {
   "codemirror_mode": {
    "name": "ipython",
    "version": 3
   },
   "file_extension": ".py",
   "mimetype": "text/x-python",
   "name": "python",
   "nbconvert_exporter": "python",
   "pygments_lexer": "ipython3",
   "version": "3.9.7"
  }
 },
 "nbformat": 4,
 "nbformat_minor": 5
}
