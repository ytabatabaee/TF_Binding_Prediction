{
  "nbformat": 4,
  "nbformat_minor": 0,
  "metadata": {
    "colab": {
      "name": "tf_binding.ipynb",
      "provenance": [],
      "collapsed_sections": []
    },
    "kernelspec": {
      "display_name": "Python 3",
      "name": "python3"
    },
    "language_info": {
      "name": "python"
    },
    "accelerator": "GPU"
  },
  "cells": [
    {
      "cell_type": "code",
      "metadata": {
        "colab": {
          "base_uri": "https://localhost:8080/"
        },
        "id": "_1LWUMp_NWyy",
        "outputId": "cfde75f1-f449-422d-8d47-44d043de107c"
      },
      "source": [
        "!pip install bio"
      ],
      "execution_count": 1,
      "outputs": [
        {
          "output_type": "stream",
          "name": "stdout",
          "text": [
            "Collecting bio\n",
            "  Downloading bio-1.3.3-py3-none-any.whl (271 kB)\n",
            "\u001b[?25l\r\u001b[K     |█▏                              | 10 kB 22.7 MB/s eta 0:00:01\r\u001b[K     |██▍                             | 20 kB 27.5 MB/s eta 0:00:01\r\u001b[K     |███▋                            | 30 kB 29.7 MB/s eta 0:00:01\r\u001b[K     |████▉                           | 40 kB 33.0 MB/s eta 0:00:01\r\u001b[K     |██████                          | 51 kB 35.1 MB/s eta 0:00:01\r\u001b[K     |███████▎                        | 61 kB 37.8 MB/s eta 0:00:01\r\u001b[K     |████████▍                       | 71 kB 38.1 MB/s eta 0:00:01\r\u001b[K     |█████████▋                      | 81 kB 39.1 MB/s eta 0:00:01\r\u001b[K     |██████████▉                     | 92 kB 40.2 MB/s eta 0:00:01\r\u001b[K     |████████████                    | 102 kB 42.3 MB/s eta 0:00:01\r\u001b[K     |█████████████▎                  | 112 kB 42.3 MB/s eta 0:00:01\r\u001b[K     |██████████████▌                 | 122 kB 42.3 MB/s eta 0:00:01\r\u001b[K     |███████████████▊                | 133 kB 42.3 MB/s eta 0:00:01\r\u001b[K     |████████████████▉               | 143 kB 42.3 MB/s eta 0:00:01\r\u001b[K     |██████████████████              | 153 kB 42.3 MB/s eta 0:00:01\r\u001b[K     |███████████████████▎            | 163 kB 42.3 MB/s eta 0:00:01\r\u001b[K     |████████████████████▌           | 174 kB 42.3 MB/s eta 0:00:01\r\u001b[K     |█████████████████████▊          | 184 kB 42.3 MB/s eta 0:00:01\r\u001b[K     |███████████████████████         | 194 kB 42.3 MB/s eta 0:00:01\r\u001b[K     |████████████████████████▏       | 204 kB 42.3 MB/s eta 0:00:01\r\u001b[K     |█████████████████████████▎      | 215 kB 42.3 MB/s eta 0:00:01\r\u001b[K     |██████████████████████████▌     | 225 kB 42.3 MB/s eta 0:00:01\r\u001b[K     |███████████████████████████▊    | 235 kB 42.3 MB/s eta 0:00:01\r\u001b[K     |█████████████████████████████   | 245 kB 42.3 MB/s eta 0:00:01\r\u001b[K     |██████████████████████████████▏ | 256 kB 42.3 MB/s eta 0:00:01\r\u001b[K     |███████████████████████████████▍| 266 kB 42.3 MB/s eta 0:00:01\r\u001b[K     |████████████████████████████████| 271 kB 42.3 MB/s \n",
            "\u001b[?25hCollecting mygene\n",
            "  Downloading mygene-3.2.2-py2.py3-none-any.whl (5.4 kB)\n",
            "Requirement already satisfied: tqdm in /usr/local/lib/python3.7/dist-packages (from bio) (4.62.3)\n",
            "Collecting biopython>=1.79\n",
            "  Downloading biopython-1.79-cp37-cp37m-manylinux_2_5_x86_64.manylinux1_x86_64.whl (2.3 MB)\n",
            "\u001b[K     |████████████████████████████████| 2.3 MB 8.5 MB/s \n",
            "\u001b[?25hRequirement already satisfied: requests in /usr/local/lib/python3.7/dist-packages (from bio) (2.23.0)\n",
            "Requirement already satisfied: numpy in /usr/local/lib/python3.7/dist-packages (from biopython>=1.79->bio) (1.19.5)\n",
            "Collecting biothings-client>=0.2.6\n",
            "  Downloading biothings_client-0.2.6-py2.py3-none-any.whl (37 kB)\n",
            "Requirement already satisfied: certifi>=2017.4.17 in /usr/local/lib/python3.7/dist-packages (from requests->bio) (2021.10.8)\n",
            "Requirement already satisfied: urllib3!=1.25.0,!=1.25.1,<1.26,>=1.21.1 in /usr/local/lib/python3.7/dist-packages (from requests->bio) (1.24.3)\n",
            "Requirement already satisfied: idna<3,>=2.5 in /usr/local/lib/python3.7/dist-packages (from requests->bio) (2.10)\n",
            "Requirement already satisfied: chardet<4,>=3.0.2 in /usr/local/lib/python3.7/dist-packages (from requests->bio) (3.0.4)\n",
            "Installing collected packages: biothings-client, mygene, biopython, bio\n",
            "Successfully installed bio-1.3.3 biopython-1.79 biothings-client-0.2.6 mygene-3.2.2\n"
          ]
        }
      ]
    },
    {
      "cell_type": "code",
      "metadata": {
        "id": "fKBbyRm3Ajry"
      },
      "source": [
        "import torch\n",
        "import torch.nn as nn\n",
        "import torch.nn.functional as F\n",
        "from torch.nn import Module, Linear, ReLU, Sequential, Conv2d, Conv1d, MaxPool1d, MaxPool2d, BatchNorm1d, BatchNorm2d, Dropout\n",
        "from torch.utils.data import DataLoader\n",
        "from torchvision import datasets, transforms\n",
        "from torchvision.utils import make_grid\n",
        "from torch.utils.data import Dataset, DataLoader, random_split\n",
        "from tqdm.auto import tqdm, trange\n",
        "import numpy as np\n",
        "import pandas as pd\n",
        "from sklearn.metrics import confusion_matrix\n",
        "import matplotlib.pyplot as plt\n",
        "from Bio import SeqIO\n",
        "from sklearn.metrics import mean_squared_error, confusion_matrix, classification_report, roc_auc_score, roc_curve\n",
        "from sklearn.preprocessing import OneHotEncoder, normalize\n",
        "import os\n",
        "%matplotlib inline"
      ],
      "execution_count": 2,
      "outputs": []
    },
    {
      "cell_type": "code",
      "metadata": {
        "colab": {
          "base_uri": "https://localhost:8080/"
        },
        "id": "6rteS28eRLMz",
        "outputId": "bde9b488-f4e6-4fb4-dbfe-9f3baa71bbfc"
      },
      "source": [
        "from google.colab import drive\n",
        "drive.mount('/content/drive/')"
      ],
      "execution_count": 3,
      "outputs": [
        {
          "output_type": "stream",
          "name": "stdout",
          "text": [
            "Mounted at /content/drive/\n"
          ]
        }
      ]
    },
    {
      "cell_type": "code",
      "metadata": {
        "colab": {
          "base_uri": "https://localhost:8080/"
        },
        "id": "3_Xal2xzjnAC",
        "outputId": "5ae73ccc-1635-4b93-e60b-e8b3e0052b37"
      },
      "source": [
        "if torch.cuda.is_available():\n",
        "    device = torch.device(\"cuda:0\")\n",
        "    print(\"Running on the GPU\")\n",
        "else:\n",
        "    device = torch.device(\"cpu\")\n",
        "    print(\"Running on the CPU\")"
      ],
      "execution_count": 4,
      "outputs": [
        {
          "output_type": "stream",
          "name": "stdout",
          "text": [
            "Running on the CPU\n"
          ]
        }
      ]
    },
    {
      "cell_type": "code",
      "metadata": {
        "id": "9g4iNPWwRTuk"
      },
      "source": [
        "# settings\n",
        "\n",
        "data_path = \"drive/My Drive/CS582/topic1-data/\"\n",
        "batch_size = 1\n",
        "validation_ratio = 0.2"
      ],
      "execution_count": 5,
      "outputs": []
    },
    {
      "cell_type": "code",
      "metadata": {
        "id": "vgeI_-tacCsp"
      },
      "source": [
        "train_data_path = data_path + \"SIN3A/SIN3A-train-sequence.fa\"\n",
        "test_data_path = data_path + \"SIN3A/SIN3A-test-sequence.fa\"\n",
        "train_label_path = data_path + \"SIN3A/SIN3A-train.bed\"\n",
        "test_label_path = data_path + \"SIN3A/SIN3A-test.bed\"\n",
        "pwm_path = data_path + \"SIN3A/\""
      ],
      "execution_count": 31,
      "outputs": []
    },
    {
      "cell_type": "code",
      "metadata": {
        "id": "nJbIFaiOXjiN"
      },
      "source": [
        "def get_tf_list(data_path):\n",
        "  tf_list = os.listdir(data_path)\n",
        "  for tf in tf_list:\n",
        "      if not os.path.isdir(data_path+tf):\n",
        "          tf_list.remove(tf)\n",
        "  return tf_list"
      ],
      "execution_count": 7,
      "outputs": []
    },
    {
      "cell_type": "code",
      "source": [
        "def read_pwms(data_path):\n",
        "  pwm_list = []\n",
        "  for file in os.listdir(data_path):\n",
        "    if file.endswith(\".wtmx\"):\n",
        "        pwm_list.append(data_path+file)\n",
        "  pwm_matrices = [normalize(pd.read_csv(pwm, names = ['A', 'T', 'C', 'G'], sep=\"\\t\", header=None,\n",
        "                          skiprows=1, skipfooter=1, dtype='float32', engine='python')\n",
        "                          .to_numpy(), axis=1, norm='l1')\n",
        "                          for pwm in pwm_list]\n",
        "  return pwm_matrices"
      ],
      "metadata": {
        "id": "YTt74t1jpi6D"
      },
      "execution_count": 11,
      "outputs": []
    },
    {
      "cell_type": "code",
      "source": [
        "pwm_matrices = read_pwms(pwm_path)"
      ],
      "metadata": {
        "id": "Zcby3zgwqzk7"
      },
      "execution_count": 32,
      "outputs": []
    },
    {
      "cell_type": "code",
      "metadata": {
        "id": "9lTAX9BBh8LP"
      },
      "source": [
        "def one_hot_encoder(sequence):\n",
        "   encoder = OneHotEncoder(sparse=False, dtype=int, handle_unknown='ignore')\n",
        "   encoder.fit([['A'], ['T'], ['C'], ['G']])\n",
        "   onehot_encoded = encoder.transform(sequence)\n",
        "   return onehot_encoded"
      ],
      "execution_count": 13,
      "outputs": []
    },
    {
      "cell_type": "code",
      "metadata": {
        "id": "_-UjEIxbZwVv"
      },
      "source": [
        "class TFBindingDataset(Dataset):\n",
        "    def __init__(self, data_path, label_path):\n",
        "        super(TFBindingDataset, self).__init__()\n",
        "        self.X = [np.array(list(record.seq.__str__().upper())).reshape(-1, 1) for record in SeqIO.parse(data_path, \"fasta\")]\n",
        "        self.X = np.array([one_hot_encoder(data) for data in self.X]).astype('float32')\n",
        "        shape = self.X.shape\n",
        "        self.X = torch.as_tensor(self.X.reshape(shape[0], 1, shape[1], shape[2]))\n",
        "        self.y = pd.read_csv(label_path, sep='\\t', header=None).drop(labels=0, axis=1).to_numpy(dtype=float)\n",
        "\n",
        "    def __getitem__(self, index):\n",
        "        if torch.is_tensor(index):\n",
        "           index = index.tolist()\n",
        "        return self.X[index], self.y[index] \n",
        "\n",
        "    def __len__(self):\n",
        "        return self.X.shape[0]"
      ],
      "execution_count": 14,
      "outputs": []
    },
    {
      "cell_type": "code",
      "metadata": {
        "id": "jaxDHnfgY1Pb"
      },
      "source": [
        "tf_list = get_tf_list(data_path)"
      ],
      "execution_count": 16,
      "outputs": []
    },
    {
      "cell_type": "code",
      "metadata": {
        "id": "XQNn5n6cfHeA"
      },
      "source": [
        "train_set = TFBindingDataset(train_data_path, train_label_path) \n",
        "test_set = TFBindingDataset(test_data_path, test_label_path)  \n",
        "#train_set, val_set = random_split(train_set, [int(len(train_set)*(1 - validation_ratio)), int(len(train_set)*validation_ratio)])    \n",
        "\n",
        "train_loader = DataLoader(dataset=train_set,\n",
        "                          batch_size=batch_size,\n",
        "                          shuffle=True)\n",
        "#val_loader = DataLoader(dataset=val_set,\n",
        " #                         batch_size=batch_size,\n",
        " #                         shuffle=True)\n",
        "test_loader = DataLoader(dataset=test_set,\n",
        "                        batch_size=batch_size,\n",
        "                         shuffle=True)"
      ],
      "execution_count": 33,
      "outputs": []
    },
    {
      "cell_type": "code",
      "metadata": {
        "id": "58yn2_2-fKTo"
      },
      "source": [
        "y_true_train = []\n",
        "y_true_test = []\n",
        "sequence = []\n",
        "\n",
        "for data in train_loader:\n",
        "    X, y = data\n",
        "    y_true_train.extend(torch.reshape(y, (-1,))) \n",
        "    sequence.extend(X[0][0])\n",
        "\n",
        "for data in test_loader:\n",
        "    _, y = data\n",
        "    y_true_test.extend(torch.reshape(y, (-1,))) \n",
        " \n",
        "y_true_train = torch.stack(y_true_train)\n",
        "y_true_test = torch.stack(y_true_test)\n",
        "sequence = torch.stack(sequence)"
      ],
      "execution_count": 34,
      "outputs": []
    },
    {
      "cell_type": "code",
      "source": [
        "def get_symbol_ratio(sequence):\n",
        "  seq_shape = sequence.shape\n",
        "  atcg_ratio = np.sum(sequence, axis=0)/(seq_shape[0])\n",
        "  return atcg_ratio"
      ],
      "metadata": {
        "id": "9vZlNPFTs62B"
      },
      "execution_count": 18,
      "outputs": []
    },
    {
      "cell_type": "code",
      "source": [
        "def get_max_llr_score(data_loader, pwm_matrices, atcg_ratio):\n",
        "  max_llr_score = []\n",
        "  for data in data_loader:\n",
        "      X, y = data \n",
        "      seq = X[0][0]\n",
        "      score = y[0][0]\n",
        "      max_score = torch.tensor(-float('inf'))\n",
        "      for pwm in pwm_matrices:\n",
        "        window_size = pwm.shape[0]\n",
        "        w_base = torch.tile(torch.from_numpy(atcg_ratio), (window_size, 1))\n",
        "        for i in range(seq.shape[0] - window_size+1):\n",
        "            llr = torch.sum(torch.log(torch.max(torch.mul(torch.from_numpy(pwm), seq[i:i+window_size]), axis=1)[0])) - torch.sum(torch.log(torch.max(torch.mul(w_base, seq[i:i+window_size]), axis=1)[0]))\n",
        "            max_score = torch.max(llr, max_score)\n",
        "      max_llr_score.append(max_score.item())\n",
        "  return max_llr_score"
      ],
      "metadata": {
        "id": "n02WnxcC8c6y"
      },
      "execution_count": 19,
      "outputs": []
    },
    {
      "cell_type": "code",
      "source": [
        "def classification_statistics(y_true_binary, y_pred_binary):\n",
        "    tn, fp, fn, tp = confusion_matrix(y_true_binary, y_pred_binary).ravel()\n",
        "\n",
        "    accuracy = (tp + tn) / (tp + tn + fp + fn)\n",
        "    sensitivity = tp / (tp + fn)\n",
        "    specificity = tn / (tn + fp)\n",
        "    f1_score = 2 * tp / (2 * tp + fp + fn)\n",
        "\n",
        "    print(confusion_matrix(y_true_binary, y_pred_binary))\n",
        "    print(classification_report(y_true_binary, y_pred_binary))\n",
        "    print(\"=== Statistics ===\")\n",
        "    print(\"Test Accuracy: %.3f\" % accuracy)\n",
        "    print(\"Test Sensitivity: %.3f\" % sensitivity)\n",
        "    print(\"Test Specificity: %.3f\" % specificity)\n",
        "    print(\"Test F1-Score: %.3f\" % f1_score)\n",
        "    return accuracy, sensitivity, specificity, f1_score"
      ],
      "metadata": {
        "id": "35edo-Rdx2Ay"
      },
      "execution_count": 20,
      "outputs": []
    },
    {
      "cell_type": "code",
      "source": [
        "atcg_ratio = get_symbol_ratio(sequence.numpy())"
      ],
      "metadata": {
        "id": "PBvtq3XN30M_"
      },
      "execution_count": 35,
      "outputs": []
    },
    {
      "cell_type": "code",
      "source": [
        "max_llr_score_train = get_max_llr_score(train_loader, pwm_matrices, atcg_ratio)"
      ],
      "metadata": {
        "id": "I20xnIXG9NHj"
      },
      "execution_count": 55,
      "outputs": []
    },
    {
      "cell_type": "code",
      "source": [
        "max_llr_score_test = get_max_llr_score(test_loader, pwm_matrices, atcg_ratio)"
      ],
      "metadata": {
        "id": "309NvMV895uQ"
      },
      "execution_count": 56,
      "outputs": []
    },
    {
      "cell_type": "code",
      "source": [
        "max_llr_score_train = np.nan_to_num(max_llr_score_train)\n",
        "max_llr_score_test = np.nan_to_num(max_llr_score_test)\n",
        "max_llr_threshold = np.median(max_llr_score_train)\n",
        "binding_threshold = np.median(y_true_train)\n",
        "\n",
        "max_llr_score_test_binary = (max_llr_score_test > max_llr_threshold)*1\n",
        "max_llr_score_train_binary = (max_llr_score_train > max_llr_threshold)*1\n",
        "y_true_test_binary = (y_true_test > binding_threshold)*1\n",
        "y_true_train_binary = (y_true_train > binding_threshold)*1"
      ],
      "metadata": {
        "id": "jW6tW1bi-nzC"
      },
      "execution_count": 57,
      "outputs": []
    },
    {
      "cell_type": "code",
      "source": [
        "binding_threshold"
      ],
      "metadata": {
        "colab": {
          "base_uri": "https://localhost:8080/"
        },
        "id": "nY4PYvu5FfUF",
        "outputId": "e6d61727-c57b-4df1-dba3-a79e9484d7e5"
      },
      "execution_count": 30,
      "outputs": [
        {
          "output_type": "execute_result",
          "data": {
            "text/plain": [
              "52.0"
            ]
          },
          "metadata": {},
          "execution_count": 30
        }
      ]
    },
    {
      "cell_type": "code",
      "source": [
        "max_llr_threshold"
      ],
      "metadata": {
        "colab": {
          "base_uri": "https://localhost:8080/"
        },
        "id": "hPemu-DpFgwI",
        "outputId": "7f7542e4-7c76-4dcd-fba0-9f5d9595cc3f"
      },
      "execution_count": 31,
      "outputs": [
        {
          "output_type": "execute_result",
          "data": {
            "text/plain": [
              "8.597409751248932"
            ]
          },
          "metadata": {},
          "execution_count": 31
        }
      ]
    },
    {
      "cell_type": "code",
      "source": [
        "np.median(max_llr_score_train)"
      ],
      "metadata": {
        "colab": {
          "base_uri": "https://localhost:8080/"
        },
        "id": "DD3WSfrjFwp-",
        "outputId": "cc1141b6-c180-49cf-ec2e-43b7d534e07d"
      },
      "execution_count": 26,
      "outputs": [
        {
          "output_type": "execute_result",
          "data": {
            "text/plain": [
              "nan"
            ]
          },
          "metadata": {},
          "execution_count": 26
        }
      ]
    },
    {
      "cell_type": "code",
      "source": [
        "classification_statistics(y_true_test_binary, max_llr_score_test_binary)"
      ],
      "metadata": {
        "colab": {
          "base_uri": "https://localhost:8080/"
        },
        "id": "HGkqLuG6x3Tr",
        "outputId": "1be1b05d-2545-4df1-b96d-35dc0a13dccc"
      },
      "execution_count": 32,
      "outputs": [
        {
          "output_type": "stream",
          "name": "stdout",
          "text": [
            "[[105 138]\n",
            " [ 73  84]]\n",
            "              precision    recall  f1-score   support\n",
            "\n",
            "           0       0.59      0.43      0.50       243\n",
            "           1       0.38      0.54      0.44       157\n",
            "\n",
            "    accuracy                           0.47       400\n",
            "   macro avg       0.48      0.48      0.47       400\n",
            "weighted avg       0.51      0.47      0.48       400\n",
            "\n",
            "=== Statistics ===\n",
            "Test Accuracy: 0.472\n",
            "Test Sensitivity: 0.535\n",
            "Test Specificity: 0.432\n",
            "Test F1-Score: 0.443\n"
          ]
        },
        {
          "output_type": "execute_result",
          "data": {
            "text/plain": [
              "(0.4725, 0.535031847133758, 0.43209876543209874, 0.44327176781002636)"
            ]
          },
          "metadata": {},
          "execution_count": 32
        }
      ]
    },
    {
      "cell_type": "code",
      "source": [
        "tf_list = get_tf_list(data_path)\n",
        "df_metrics = pd.DataFrame(columns=['Metric'] + tf_list)\n",
        "df_metrics['Metric'] = ['Accuracy', 'Sensitivity', 'Specificity', 'F1_score', 'ROC-AUC']"
      ],
      "metadata": {
        "id": "pCfNhCjlDQei"
      },
      "execution_count": 34,
      "outputs": []
    },
    {
      "cell_type": "code",
      "source": [
        "df_metrics"
      ],
      "metadata": {
        "colab": {
          "base_uri": "https://localhost:8080/",
          "height": 241
        },
        "id": "XnCrwGqOk4Du",
        "outputId": "75910455-3713-4162-8fe2-12dce73cc4c6"
      },
      "execution_count": 35,
      "outputs": [
        {
          "output_type": "execute_result",
          "data": {
            "text/html": [
              "<div>\n",
              "<style scoped>\n",
              "    .dataframe tbody tr th:only-of-type {\n",
              "        vertical-align: middle;\n",
              "    }\n",
              "\n",
              "    .dataframe tbody tr th {\n",
              "        vertical-align: top;\n",
              "    }\n",
              "\n",
              "    .dataframe thead th {\n",
              "        text-align: right;\n",
              "    }\n",
              "</style>\n",
              "<table border=\"1\" class=\"dataframe\">\n",
              "  <thead>\n",
              "    <tr style=\"text-align: right;\">\n",
              "      <th></th>\n",
              "      <th>Metric</th>\n",
              "      <th>TCF3</th>\n",
              "      <th>SIN3A</th>\n",
              "      <th>PAX5</th>\n",
              "      <th>BATF</th>\n",
              "      <th>BCL3</th>\n",
              "      <th>RUNX3</th>\n",
              "      <th>MEF2A</th>\n",
              "      <th>ZEB1</th>\n",
              "      <th>MXI1</th>\n",
              "      <th>NFYB</th>\n",
              "      <th>IKZF1</th>\n",
              "      <th>YY1</th>\n",
              "      <th>SPI1</th>\n",
              "      <th>RELA</th>\n",
              "      <th>NFATC1</th>\n",
              "      <th>USF1</th>\n",
              "      <th>ELF1</th>\n",
              "      <th>MAX</th>\n",
              "      <th>BHLHE40</th>\n",
              "      <th>EBF1</th>\n",
              "      <th>ZNF143</th>\n",
              "      <th>USF2</th>\n",
              "      <th>NFIC</th>\n",
              "      <th>TCF12</th>\n",
              "      <th>REST</th>\n",
              "      <th>EGR1</th>\n",
              "    </tr>\n",
              "  </thead>\n",
              "  <tbody>\n",
              "    <tr>\n",
              "      <th>0</th>\n",
              "      <td>Accuracy</td>\n",
              "      <td>NaN</td>\n",
              "      <td>NaN</td>\n",
              "      <td>NaN</td>\n",
              "      <td>NaN</td>\n",
              "      <td>NaN</td>\n",
              "      <td>NaN</td>\n",
              "      <td>NaN</td>\n",
              "      <td>NaN</td>\n",
              "      <td>NaN</td>\n",
              "      <td>NaN</td>\n",
              "      <td>NaN</td>\n",
              "      <td>NaN</td>\n",
              "      <td>NaN</td>\n",
              "      <td>NaN</td>\n",
              "      <td>NaN</td>\n",
              "      <td>NaN</td>\n",
              "      <td>NaN</td>\n",
              "      <td>NaN</td>\n",
              "      <td>NaN</td>\n",
              "      <td>NaN</td>\n",
              "      <td>NaN</td>\n",
              "      <td>NaN</td>\n",
              "      <td>NaN</td>\n",
              "      <td>NaN</td>\n",
              "      <td>NaN</td>\n",
              "      <td>NaN</td>\n",
              "    </tr>\n",
              "    <tr>\n",
              "      <th>1</th>\n",
              "      <td>Sensitivity</td>\n",
              "      <td>NaN</td>\n",
              "      <td>NaN</td>\n",
              "      <td>NaN</td>\n",
              "      <td>NaN</td>\n",
              "      <td>NaN</td>\n",
              "      <td>NaN</td>\n",
              "      <td>NaN</td>\n",
              "      <td>NaN</td>\n",
              "      <td>NaN</td>\n",
              "      <td>NaN</td>\n",
              "      <td>NaN</td>\n",
              "      <td>NaN</td>\n",
              "      <td>NaN</td>\n",
              "      <td>NaN</td>\n",
              "      <td>NaN</td>\n",
              "      <td>NaN</td>\n",
              "      <td>NaN</td>\n",
              "      <td>NaN</td>\n",
              "      <td>NaN</td>\n",
              "      <td>NaN</td>\n",
              "      <td>NaN</td>\n",
              "      <td>NaN</td>\n",
              "      <td>NaN</td>\n",
              "      <td>NaN</td>\n",
              "      <td>NaN</td>\n",
              "      <td>NaN</td>\n",
              "    </tr>\n",
              "    <tr>\n",
              "      <th>2</th>\n",
              "      <td>Specificity</td>\n",
              "      <td>NaN</td>\n",
              "      <td>NaN</td>\n",
              "      <td>NaN</td>\n",
              "      <td>NaN</td>\n",
              "      <td>NaN</td>\n",
              "      <td>NaN</td>\n",
              "      <td>NaN</td>\n",
              "      <td>NaN</td>\n",
              "      <td>NaN</td>\n",
              "      <td>NaN</td>\n",
              "      <td>NaN</td>\n",
              "      <td>NaN</td>\n",
              "      <td>NaN</td>\n",
              "      <td>NaN</td>\n",
              "      <td>NaN</td>\n",
              "      <td>NaN</td>\n",
              "      <td>NaN</td>\n",
              "      <td>NaN</td>\n",
              "      <td>NaN</td>\n",
              "      <td>NaN</td>\n",
              "      <td>NaN</td>\n",
              "      <td>NaN</td>\n",
              "      <td>NaN</td>\n",
              "      <td>NaN</td>\n",
              "      <td>NaN</td>\n",
              "      <td>NaN</td>\n",
              "    </tr>\n",
              "    <tr>\n",
              "      <th>3</th>\n",
              "      <td>F1_score</td>\n",
              "      <td>NaN</td>\n",
              "      <td>NaN</td>\n",
              "      <td>NaN</td>\n",
              "      <td>NaN</td>\n",
              "      <td>NaN</td>\n",
              "      <td>NaN</td>\n",
              "      <td>NaN</td>\n",
              "      <td>NaN</td>\n",
              "      <td>NaN</td>\n",
              "      <td>NaN</td>\n",
              "      <td>NaN</td>\n",
              "      <td>NaN</td>\n",
              "      <td>NaN</td>\n",
              "      <td>NaN</td>\n",
              "      <td>NaN</td>\n",
              "      <td>NaN</td>\n",
              "      <td>NaN</td>\n",
              "      <td>NaN</td>\n",
              "      <td>NaN</td>\n",
              "      <td>NaN</td>\n",
              "      <td>NaN</td>\n",
              "      <td>NaN</td>\n",
              "      <td>NaN</td>\n",
              "      <td>NaN</td>\n",
              "      <td>NaN</td>\n",
              "      <td>NaN</td>\n",
              "    </tr>\n",
              "    <tr>\n",
              "      <th>4</th>\n",
              "      <td>ROC-AUC</td>\n",
              "      <td>NaN</td>\n",
              "      <td>NaN</td>\n",
              "      <td>NaN</td>\n",
              "      <td>NaN</td>\n",
              "      <td>NaN</td>\n",
              "      <td>NaN</td>\n",
              "      <td>NaN</td>\n",
              "      <td>NaN</td>\n",
              "      <td>NaN</td>\n",
              "      <td>NaN</td>\n",
              "      <td>NaN</td>\n",
              "      <td>NaN</td>\n",
              "      <td>NaN</td>\n",
              "      <td>NaN</td>\n",
              "      <td>NaN</td>\n",
              "      <td>NaN</td>\n",
              "      <td>NaN</td>\n",
              "      <td>NaN</td>\n",
              "      <td>NaN</td>\n",
              "      <td>NaN</td>\n",
              "      <td>NaN</td>\n",
              "      <td>NaN</td>\n",
              "      <td>NaN</td>\n",
              "      <td>NaN</td>\n",
              "      <td>NaN</td>\n",
              "      <td>NaN</td>\n",
              "    </tr>\n",
              "  </tbody>\n",
              "</table>\n",
              "</div>"
            ],
            "text/plain": [
              "        Metric TCF3 SIN3A PAX5 BATF BCL3  ... ZNF143 USF2 NFIC TCF12 REST EGR1\n",
              "0     Accuracy  NaN   NaN  NaN  NaN  NaN  ...    NaN  NaN  NaN   NaN  NaN  NaN\n",
              "1  Sensitivity  NaN   NaN  NaN  NaN  NaN  ...    NaN  NaN  NaN   NaN  NaN  NaN\n",
              "2  Specificity  NaN   NaN  NaN  NaN  NaN  ...    NaN  NaN  NaN   NaN  NaN  NaN\n",
              "3     F1_score  NaN   NaN  NaN  NaN  NaN  ...    NaN  NaN  NaN   NaN  NaN  NaN\n",
              "4      ROC-AUC  NaN   NaN  NaN  NaN  NaN  ...    NaN  NaN  NaN   NaN  NaN  NaN\n",
              "\n",
              "[5 rows x 27 columns]"
            ]
          },
          "metadata": {},
          "execution_count": 35
        }
      ]
    },
    {
      "cell_type": "code",
      "source": [
        "for i in range(5):\n",
        "    for j in range(5):\n",
        "        tf = tf_list[5*i+j]\n",
        "        print(\"***************** \" + tf + \" *****************\")\n",
        "        train_data_path = data_path + tf + '/' + tf + '-train-sequence.fa'\n",
        "        test_data_path = data_path + tf + '/' + tf + \"-test-sequence.fa\"\n",
        "        train_label_path = data_path + tf + '/' + tf + \"-train.bed\"\n",
        "        test_label_path = data_path + tf + '/' + tf + \"-test.bed\"\n",
        "        pwm_path = data_path + tf + '/'\n",
        "\n",
        "        pwm_matrices = read_pwms(pwm_path)\n",
        "\n",
        "        train_set = TFBindingDataset(train_data_path, train_label_path) \n",
        "        test_set = TFBindingDataset(test_data_path, test_label_path)  \n",
        "\n",
        "        train_loader = DataLoader(dataset=train_set,\n",
        "                          batch_size=batch_size,\n",
        "                          shuffle=True)\n",
        "        test_loader = DataLoader(dataset=test_set,\n",
        "                        batch_size=batch_size,\n",
        "                         shuffle=True)\n",
        "        \n",
        "        y_true_train = []\n",
        "        y_true_test = []\n",
        "        sequence = []\n",
        "\n",
        "        for data in train_loader:\n",
        "            X, y = data\n",
        "            y_true_train.extend(torch.reshape(y, (-1,))) \n",
        "            sequence.extend(X[0][0])\n",
        "\n",
        "        for data in test_loader:\n",
        "            _, y = data\n",
        "            y_true_test.extend(torch.reshape(y, (-1,))) \n",
        "        \n",
        "        y_true_train = torch.stack(y_true_train)\n",
        "        y_true_test = torch.stack(y_true_test)\n",
        "        sequence = torch.stack(sequence)\n",
        "\n",
        "        atcg_ratio = get_symbol_ratio(sequence.numpy())\n",
        "        max_llr_score_train = get_max_llr_score(train_loader, pwm_matrices, atcg_ratio)\n",
        "        max_llr_score_test = get_max_llr_score(test_loader, pwm_matrices, atcg_ratio)\n",
        "\n",
        "        max_llr_score_train = np.nan_to_num(max_llr_score_train)\n",
        "        max_llr_score_test = np.nan_to_num(max_llr_score_test)\n",
        "\n",
        "        max_llr_threshold = np.median(max_llr_score_train)\n",
        "        binding_threshold = np.median(y_true_train)\n",
        "\n",
        "        max_llr_score_test_binary = (max_llr_score_test > max_llr_threshold)*1\n",
        "        max_llr_score_train_binary = (max_llr_score_train > max_llr_threshold)*1\n",
        "        y_true_test_binary = (y_true_test > binding_threshold)*1\n",
        "        y_true_train_binary = (y_true_train > binding_threshold)*1\n",
        "\n",
        "        accuracy, sensitivity, specificity, f1_score = classification_statistics(y_true_test_binary, max_llr_score_test_binary)\n",
        "        auc = roc_auc_score(y_true_test_binary, max_llr_score_test_binary)\n",
        "        df_metrics[tf] = [accuracy, sensitivity, specificity, f1_score, auc]"
      ],
      "metadata": {
        "colab": {
          "base_uri": "https://localhost:8080/"
        },
        "id": "1X_bmi8pBljK",
        "outputId": "46f5c620-05be-4f24-a67a-e08119f7fa10"
      },
      "execution_count": 36,
      "outputs": [
        {
          "output_type": "stream",
          "name": "stdout",
          "text": [
            "***************** TCF3 *****************\n",
            "['drive/My Drive/CS582/topic1-data/TCF3/TCF3_GM12878_1.wtmx', 'drive/My Drive/CS582/topic1-data/TCF3/TCF3_GM12878_3.wtmx', 'drive/My Drive/CS582/topic1-data/TCF3/TCF3_GM12878_2.wtmx', 'drive/My Drive/CS582/topic1-data/TCF3/TCF3_GM12878_4.wtmx', 'drive/My Drive/CS582/topic1-data/TCF3/TCF3_GM12878_5.wtmx', 'drive/My Drive/CS582/topic1-data/TCF3/TCF3_FB_1.wtmx']\n",
            "[[101 106]\n",
            " [109  84]]\n",
            "              precision    recall  f1-score   support\n",
            "\n",
            "           0       0.48      0.49      0.48       207\n",
            "           1       0.44      0.44      0.44       193\n",
            "\n",
            "    accuracy                           0.46       400\n",
            "   macro avg       0.46      0.46      0.46       400\n",
            "weighted avg       0.46      0.46      0.46       400\n",
            "\n",
            "=== Statistics ===\n",
            "Test Accuracy: 0.463\n",
            "Test Sensitivity: 0.435\n",
            "Test Specificity: 0.488\n",
            "Test F1-Score: 0.439\n",
            "***************** SIN3A *****************\n",
            "['drive/My Drive/CS582/topic1-data/SIN3A/SIN3A_GM12878_5.wtmx', 'drive/My Drive/CS582/topic1-data/SIN3A/SIN3A_GM12878_1.wtmx', 'drive/My Drive/CS582/topic1-data/SIN3A/SIN3A_GM12878_4.wtmx', 'drive/My Drive/CS582/topic1-data/SIN3A/SIN3A_GM12878_3.wtmx', 'drive/My Drive/CS582/topic1-data/SIN3A/SIN3A_GM12878_2.wtmx']\n",
            "[[119 108]\n",
            " [ 94  79]]\n",
            "              precision    recall  f1-score   support\n",
            "\n",
            "           0       0.56      0.52      0.54       227\n",
            "           1       0.42      0.46      0.44       173\n",
            "\n",
            "    accuracy                           0.49       400\n",
            "   macro avg       0.49      0.49      0.49       400\n",
            "weighted avg       0.50      0.49      0.50       400\n",
            "\n",
            "=== Statistics ===\n",
            "Test Accuracy: 0.495\n",
            "Test Sensitivity: 0.457\n",
            "Test Specificity: 0.524\n",
            "Test F1-Score: 0.439\n",
            "***************** PAX5 *****************\n",
            "['drive/My Drive/CS582/topic1-data/PAX5/PAX5_GM12878_1.wtmx', 'drive/My Drive/CS582/topic1-data/PAX5/PAX5_GM12878_2.wtmx', 'drive/My Drive/CS582/topic1-data/PAX5/PAX5_HOCO_A.wtmx', 'drive/My Drive/CS582/topic1-data/PAX5/PAX5_GM12878_3.wtmx', 'drive/My Drive/CS582/topic1-data/PAX5/PAX5_GM12878_4.wtmx', 'drive/My Drive/CS582/topic1-data/PAX5/PAX5_HOCO_S.wtmx', 'drive/My Drive/CS582/topic1-data/PAX5/PAX5_GM12878_5.wtmx']\n",
            "[[114  96]\n",
            " [ 97  93]]\n",
            "              precision    recall  f1-score   support\n",
            "\n",
            "           0       0.54      0.54      0.54       210\n",
            "           1       0.49      0.49      0.49       190\n",
            "\n",
            "    accuracy                           0.52       400\n",
            "   macro avg       0.52      0.52      0.52       400\n",
            "weighted avg       0.52      0.52      0.52       400\n",
            "\n",
            "=== Statistics ===\n",
            "Test Accuracy: 0.517\n",
            "Test Sensitivity: 0.489\n",
            "Test Specificity: 0.543\n",
            "Test F1-Score: 0.491\n",
            "***************** BATF *****************\n",
            "['drive/My Drive/CS582/topic1-data/BATF/BATF_FB_1.wtmx', 'drive/My Drive/CS582/topic1-data/BATF/BATF_GM12878_5.wtmx', 'drive/My Drive/CS582/topic1-data/BATF/BATF_GM12878_2.wtmx', 'drive/My Drive/CS582/topic1-data/BATF/BATF_GM12878_4.wtmx', 'drive/My Drive/CS582/topic1-data/BATF/BATF_GM12878_1.wtmx', 'drive/My Drive/CS582/topic1-data/BATF/BATF_HOCO_S.wtmx', 'drive/My Drive/CS582/topic1-data/BATF/BATF_HOCO_A.wtmx', 'drive/My Drive/CS582/topic1-data/BATF/BATF_GM12878_3.wtmx']\n",
            "[[105  89]\n",
            " [105 101]]\n",
            "              precision    recall  f1-score   support\n",
            "\n",
            "           0       0.50      0.54      0.52       194\n",
            "           1       0.53      0.49      0.51       206\n",
            "\n",
            "    accuracy                           0.52       400\n",
            "   macro avg       0.52      0.52      0.51       400\n",
            "weighted avg       0.52      0.52      0.51       400\n",
            "\n",
            "=== Statistics ===\n",
            "Test Accuracy: 0.515\n",
            "Test Sensitivity: 0.490\n",
            "Test Specificity: 0.541\n",
            "Test F1-Score: 0.510\n",
            "***************** BCL3 *****************\n",
            "['drive/My Drive/CS582/topic1-data/BCL3/BCL3_GM12878_5.wtmx', 'drive/My Drive/CS582/topic1-data/BCL3/BCL3_GM12878_2.wtmx', 'drive/My Drive/CS582/topic1-data/BCL3/BCL3_GM12878_1.wtmx', 'drive/My Drive/CS582/topic1-data/BCL3/BCL3_GM12878_4.wtmx', 'drive/My Drive/CS582/topic1-data/BCL3/BCL3_GM12878_3.wtmx']\n",
            "[[126  88]\n",
            " [107  79]]\n",
            "              precision    recall  f1-score   support\n",
            "\n",
            "           0       0.54      0.59      0.56       214\n",
            "           1       0.47      0.42      0.45       186\n",
            "\n",
            "    accuracy                           0.51       400\n",
            "   macro avg       0.51      0.51      0.51       400\n",
            "weighted avg       0.51      0.51      0.51       400\n",
            "\n",
            "=== Statistics ===\n",
            "Test Accuracy: 0.512\n",
            "Test Sensitivity: 0.425\n",
            "Test Specificity: 0.589\n",
            "Test F1-Score: 0.448\n",
            "***************** RUNX3 *****************\n",
            "['drive/My Drive/CS582/topic1-data/RUNX3/RUNX3_FB_1.wtmx', 'drive/My Drive/CS582/topic1-data/RUNX3/RUNX3_HOCO_C.wtmx', 'drive/My Drive/CS582/topic1-data/RUNX3/RUNX3_GM12878_4.wtmx', 'drive/My Drive/CS582/topic1-data/RUNX3/RUNX3_GM12878_1.wtmx', 'drive/My Drive/CS582/topic1-data/RUNX3/RUNX3_GM12878_2.wtmx', 'drive/My Drive/CS582/topic1-data/RUNX3/RUNX3_GM12878_3.wtmx', 'drive/My Drive/CS582/topic1-data/RUNX3/RUNX3_GM12878_5.wtmx']\n",
            "[[106 106]\n",
            " [ 94  94]]\n",
            "              precision    recall  f1-score   support\n",
            "\n",
            "           0       0.53      0.50      0.51       212\n",
            "           1       0.47      0.50      0.48       188\n",
            "\n",
            "    accuracy                           0.50       400\n",
            "   macro avg       0.50      0.50      0.50       400\n",
            "weighted avg       0.50      0.50      0.50       400\n",
            "\n",
            "=== Statistics ===\n",
            "Test Accuracy: 0.500\n",
            "Test Sensitivity: 0.500\n",
            "Test Specificity: 0.500\n",
            "Test F1-Score: 0.485\n",
            "***************** MEF2A *****************\n",
            "['drive/My Drive/CS582/topic1-data/MEF2A/MEF2A_GM12878_3.wtmx', 'drive/My Drive/CS582/topic1-data/MEF2A/MEF2A_GM12878_5.wtmx', 'drive/My Drive/CS582/topic1-data/MEF2A/MEF2A_GM12878_4.wtmx', 'drive/My Drive/CS582/topic1-data/MEF2A/MEF2A_GM12878_2.wtmx', 'drive/My Drive/CS582/topic1-data/MEF2A/MEF2A_FB_1.wtmx', 'drive/My Drive/CS582/topic1-data/MEF2A/MEF2A_HOCO_A.wtmx', 'drive/My Drive/CS582/topic1-data/MEF2A/MEF2A_GM12878_1.wtmx']\n",
            "[[ 95  71]\n",
            " [127 107]]\n",
            "              precision    recall  f1-score   support\n",
            "\n",
            "           0       0.43      0.57      0.49       166\n",
            "           1       0.60      0.46      0.52       234\n",
            "\n",
            "    accuracy                           0.51       400\n",
            "   macro avg       0.51      0.51      0.50       400\n",
            "weighted avg       0.53      0.51      0.51       400\n",
            "\n",
            "=== Statistics ===\n",
            "Test Accuracy: 0.505\n",
            "Test Sensitivity: 0.457\n",
            "Test Specificity: 0.572\n",
            "Test F1-Score: 0.519\n",
            "***************** ZEB1 *****************\n",
            "['drive/My Drive/CS582/topic1-data/ZEB1/ZEB1_GM12878_3.wtmx', 'drive/My Drive/CS582/topic1-data/ZEB1/ZEB1_GM12878_2.wtmx', 'drive/My Drive/CS582/topic1-data/ZEB1/ZEB1_GM12878_4.wtmx', 'drive/My Drive/CS582/topic1-data/ZEB1/ZEB1_GM12878_1.wtmx', 'drive/My Drive/CS582/topic1-data/ZEB1/ZEB1_FB_1.wtmx', 'drive/My Drive/CS582/topic1-data/ZEB1/ZEB1_HOCO_B.wtmx', 'drive/My Drive/CS582/topic1-data/ZEB1/ZEB1_GM12878_5.wtmx']\n",
            "[[105 101]\n",
            " [113  81]]\n",
            "              precision    recall  f1-score   support\n",
            "\n",
            "           0       0.48      0.51      0.50       206\n",
            "           1       0.45      0.42      0.43       194\n",
            "\n",
            "    accuracy                           0.47       400\n",
            "   macro avg       0.46      0.46      0.46       400\n",
            "weighted avg       0.46      0.47      0.46       400\n",
            "\n",
            "=== Statistics ===\n",
            "Test Accuracy: 0.465\n",
            "Test Sensitivity: 0.418\n",
            "Test Specificity: 0.510\n",
            "Test F1-Score: 0.431\n",
            "***************** MXI1 *****************\n",
            "['drive/My Drive/CS582/topic1-data/MXI1/MXI1_GM12878_4.wtmx', 'drive/My Drive/CS582/topic1-data/MXI1/MXI1_GM12878_1.wtmx', 'drive/My Drive/CS582/topic1-data/MXI1/MXI1_GM12878_2.wtmx', 'drive/My Drive/CS582/topic1-data/MXI1/MXI1_GM12878_3.wtmx', 'drive/My Drive/CS582/topic1-data/MXI1/MXI1_GM12878_5.wtmx']\n",
            "[[113 108]\n",
            " [ 81  98]]\n",
            "              precision    recall  f1-score   support\n",
            "\n",
            "           0       0.58      0.51      0.54       221\n",
            "           1       0.48      0.55      0.51       179\n",
            "\n",
            "    accuracy                           0.53       400\n",
            "   macro avg       0.53      0.53      0.53       400\n",
            "weighted avg       0.53      0.53      0.53       400\n",
            "\n",
            "=== Statistics ===\n",
            "Test Accuracy: 0.527\n",
            "Test Sensitivity: 0.547\n",
            "Test Specificity: 0.511\n",
            "Test F1-Score: 0.509\n",
            "***************** NFYB *****************\n",
            "['drive/My Drive/CS582/topic1-data/NFYB/NFYB_GM12878_1.wtmx', 'drive/My Drive/CS582/topic1-data/NFYB/NFYB_GM12878_5.wtmx', 'drive/My Drive/CS582/topic1-data/NFYB/NFYB_GM12878_2.wtmx', 'drive/My Drive/CS582/topic1-data/NFYB/NFYB_HOCO_A.wtmx', 'drive/My Drive/CS582/topic1-data/NFYB/NFYB_GM12878_4.wtmx', 'drive/My Drive/CS582/topic1-data/NFYB/NFYB_GM12878_3.wtmx', 'drive/My Drive/CS582/topic1-data/NFYB/NFYB_FB_1.wtmx']\n",
            "[[158 101]\n",
            " [ 93  48]]\n",
            "              precision    recall  f1-score   support\n",
            "\n",
            "           0       0.63      0.61      0.62       259\n",
            "           1       0.32      0.34      0.33       141\n",
            "\n",
            "    accuracy                           0.52       400\n",
            "   macro avg       0.48      0.48      0.48       400\n",
            "weighted avg       0.52      0.52      0.52       400\n",
            "\n",
            "=== Statistics ===\n",
            "Test Accuracy: 0.515\n",
            "Test Sensitivity: 0.340\n",
            "Test Specificity: 0.610\n",
            "Test F1-Score: 0.331\n",
            "***************** IKZF1 *****************\n",
            "['drive/My Drive/CS582/topic1-data/IKZF1/IKZF1_GM12878_1.wtmx', 'drive/My Drive/CS582/topic1-data/IKZF1/IKZF1_GM12878_4.wtmx', 'drive/My Drive/CS582/topic1-data/IKZF1/IKZF1_GM12878_5.wtmx', 'drive/My Drive/CS582/topic1-data/IKZF1/IKZF1_GM12878_3.wtmx', 'drive/My Drive/CS582/topic1-data/IKZF1/IKZF1_GM12878_2.wtmx', 'drive/My Drive/CS582/topic1-data/IKZF1/IKZF1_HOCO_C.wtmx']\n",
            "[[128 116]\n",
            " [ 85  71]]\n",
            "              precision    recall  f1-score   support\n",
            "\n",
            "           0       0.60      0.52      0.56       244\n",
            "           1       0.38      0.46      0.41       156\n",
            "\n",
            "    accuracy                           0.50       400\n",
            "   macro avg       0.49      0.49      0.49       400\n",
            "weighted avg       0.51      0.50      0.50       400\n",
            "\n",
            "=== Statistics ===\n",
            "Test Accuracy: 0.497\n",
            "Test Sensitivity: 0.455\n",
            "Test Specificity: 0.525\n",
            "Test F1-Score: 0.414\n",
            "***************** YY1 *****************\n",
            "['drive/My Drive/CS582/topic1-data/YY1/YY1_GM12878_5.wtmx', 'drive/My Drive/CS582/topic1-data/YY1/YY1_GM12878_1.wtmx', 'drive/My Drive/CS582/topic1-data/YY1/YY1_GM12878_3.wtmx', 'drive/My Drive/CS582/topic1-data/YY1/YY1_GM12878_4.wtmx', 'drive/My Drive/CS582/topic1-data/YY1/YY1_FB_1.wtmx', 'drive/My Drive/CS582/topic1-data/YY1/YY1_GM12878_2.wtmx']\n",
            "[[146  99]\n",
            " [ 79  76]]\n",
            "              precision    recall  f1-score   support\n",
            "\n",
            "           0       0.65      0.60      0.62       245\n",
            "           1       0.43      0.49      0.46       155\n",
            "\n",
            "    accuracy                           0.56       400\n",
            "   macro avg       0.54      0.54      0.54       400\n",
            "weighted avg       0.57      0.56      0.56       400\n",
            "\n",
            "=== Statistics ===\n",
            "Test Accuracy: 0.555\n",
            "Test Sensitivity: 0.490\n",
            "Test Specificity: 0.596\n",
            "Test F1-Score: 0.461\n",
            "***************** SPI1 *****************\n",
            "['drive/My Drive/CS582/topic1-data/SPI1/SPI1_HOCO_A.wtmx', 'drive/My Drive/CS582/topic1-data/SPI1/SPI1_GM12878_4.wtmx', 'drive/My Drive/CS582/topic1-data/SPI1/SPI1_GM12878_5.wtmx', 'drive/My Drive/CS582/topic1-data/SPI1/SPI1_GM12878_1.wtmx', 'drive/My Drive/CS582/topic1-data/SPI1/SPI1_FB_1.wtmx', 'drive/My Drive/CS582/topic1-data/SPI1/SPI1_GM12878_2.wtmx', 'drive/My Drive/CS582/topic1-data/SPI1/SPI1_GM12878_3.wtmx']\n",
            "[[107 104]\n",
            " [ 90  99]]\n",
            "              precision    recall  f1-score   support\n",
            "\n",
            "           0       0.54      0.51      0.52       211\n",
            "           1       0.49      0.52      0.51       189\n",
            "\n",
            "    accuracy                           0.52       400\n",
            "   macro avg       0.52      0.52      0.51       400\n",
            "weighted avg       0.52      0.52      0.52       400\n",
            "\n",
            "=== Statistics ===\n",
            "Test Accuracy: 0.515\n",
            "Test Sensitivity: 0.524\n",
            "Test Specificity: 0.507\n",
            "Test F1-Score: 0.505\n",
            "***************** RELA *****************\n",
            "['drive/My Drive/CS582/topic1-data/RELA/RELA_FB_1.wtmx', 'drive/My Drive/CS582/topic1-data/RELA/RELA_GM12878_5.wtmx', 'drive/My Drive/CS582/topic1-data/RELA/RELA_GM12878_2.wtmx', 'drive/My Drive/CS582/topic1-data/RELA/RELA_GM12878_1.wtmx', 'drive/My Drive/CS582/topic1-data/RELA/RELA_GM12878_3.wtmx', 'drive/My Drive/CS582/topic1-data/RELA/RELA_GM12878_4.wtmx']\n",
            "[[140 106]\n",
            " [ 86  68]]\n",
            "              precision    recall  f1-score   support\n",
            "\n",
            "           0       0.62      0.57      0.59       246\n",
            "           1       0.39      0.44      0.41       154\n",
            "\n",
            "    accuracy                           0.52       400\n",
            "   macro avg       0.51      0.51      0.50       400\n",
            "weighted avg       0.53      0.52      0.52       400\n",
            "\n",
            "=== Statistics ===\n",
            "Test Accuracy: 0.520\n",
            "Test Sensitivity: 0.442\n",
            "Test Specificity: 0.569\n",
            "Test F1-Score: 0.415\n",
            "***************** NFATC1 *****************\n",
            "['drive/My Drive/CS582/topic1-data/NFATC1/NFATC1_GM12878_5.wtmx', 'drive/My Drive/CS582/topic1-data/NFATC1/NFATC1_GM12878_4.wtmx', 'drive/My Drive/CS582/topic1-data/NFATC1/NFATC1_GM12878_2.wtmx', 'drive/My Drive/CS582/topic1-data/NFATC1/NFATC1_GM12878_3.wtmx', 'drive/My Drive/CS582/topic1-data/NFATC1/NFATC1_GM12878_1.wtmx']\n",
            "[[102  97]\n",
            " [106  95]]\n",
            "              precision    recall  f1-score   support\n",
            "\n",
            "           0       0.49      0.51      0.50       199\n",
            "           1       0.49      0.47      0.48       201\n",
            "\n",
            "    accuracy                           0.49       400\n",
            "   macro avg       0.49      0.49      0.49       400\n",
            "weighted avg       0.49      0.49      0.49       400\n",
            "\n",
            "=== Statistics ===\n",
            "Test Accuracy: 0.492\n",
            "Test Sensitivity: 0.473\n",
            "Test Specificity: 0.513\n",
            "Test F1-Score: 0.483\n",
            "***************** USF1 *****************\n",
            "['drive/My Drive/CS582/topic1-data/USF1/USF1_GM12878_3.wtmx', 'drive/My Drive/CS582/topic1-data/USF1/USF1_HOCO_A.wtmx', 'drive/My Drive/CS582/topic1-data/USF1/USF1_GM12878_1.wtmx', 'drive/My Drive/CS582/topic1-data/USF1/USF1_GM12878_5.wtmx', 'drive/My Drive/CS582/topic1-data/USF1/USF1_GM12878_2.wtmx', 'drive/My Drive/CS582/topic1-data/USF1/USF1_FB_1.wtmx', 'drive/My Drive/CS582/topic1-data/USF1/USF1_GM12878_4.wtmx']\n",
            "[[133 122]\n",
            " [ 77  68]]\n",
            "              precision    recall  f1-score   support\n",
            "\n",
            "           0       0.63      0.52      0.57       255\n",
            "           1       0.36      0.47      0.41       145\n",
            "\n",
            "    accuracy                           0.50       400\n",
            "   macro avg       0.50      0.50      0.49       400\n",
            "weighted avg       0.53      0.50      0.51       400\n",
            "\n",
            "=== Statistics ===\n",
            "Test Accuracy: 0.502\n",
            "Test Sensitivity: 0.469\n",
            "Test Specificity: 0.522\n",
            "Test F1-Score: 0.406\n",
            "***************** ELF1 *****************\n",
            "['drive/My Drive/CS582/topic1-data/ELF1/ELF1_GM12878_4.wtmx', 'drive/My Drive/CS582/topic1-data/ELF1/ELF1_FB_1.wtmx', 'drive/My Drive/CS582/topic1-data/ELF1/ELF1_GM12878_3.wtmx', 'drive/My Drive/CS582/topic1-data/ELF1/ELF1_GM12878_2.wtmx', 'drive/My Drive/CS582/topic1-data/ELF1/ELF1_GM12878_5.wtmx', 'drive/My Drive/CS582/topic1-data/ELF1/ELF1_GM12878_1.wtmx', 'drive/My Drive/CS582/topic1-data/ELF1/ELF1_HOCO_A.wtmx']\n",
            "[[107  73]\n",
            " [125  95]]\n",
            "              precision    recall  f1-score   support\n",
            "\n",
            "           0       0.46      0.59      0.52       180\n",
            "           1       0.57      0.43      0.49       220\n",
            "\n",
            "    accuracy                           0.51       400\n",
            "   macro avg       0.51      0.51      0.50       400\n",
            "weighted avg       0.52      0.51      0.50       400\n",
            "\n",
            "=== Statistics ===\n",
            "Test Accuracy: 0.505\n",
            "Test Sensitivity: 0.432\n",
            "Test Specificity: 0.594\n",
            "Test F1-Score: 0.490\n",
            "***************** MAX *****************\n",
            "['drive/My Drive/CS582/topic1-data/MAX/MAX_GM12878_1.wtmx', 'drive/My Drive/CS582/topic1-data/MAX/MAX_GM12878_2.wtmx', 'drive/My Drive/CS582/topic1-data/MAX/MAX_GM12878_5.wtmx', 'drive/My Drive/CS582/topic1-data/MAX/MAX_GM12878_4.wtmx', 'drive/My Drive/CS582/topic1-data/MAX/MAX_GM12878_3.wtmx', 'drive/My Drive/CS582/topic1-data/MAX/MAX_FB_1.wtmx', 'drive/My Drive/CS582/topic1-data/MAX/MAX_HOCO_A.wtmx']\n",
            "[[127  92]\n",
            " [ 88  93]]\n",
            "              precision    recall  f1-score   support\n",
            "\n",
            "           0       0.59      0.58      0.59       219\n",
            "           1       0.50      0.51      0.51       181\n",
            "\n",
            "    accuracy                           0.55       400\n",
            "   macro avg       0.55      0.55      0.55       400\n",
            "weighted avg       0.55      0.55      0.55       400\n",
            "\n",
            "=== Statistics ===\n",
            "Test Accuracy: 0.550\n",
            "Test Sensitivity: 0.514\n",
            "Test Specificity: 0.580\n",
            "Test F1-Score: 0.508\n",
            "***************** BHLHE40 *****************\n",
            "['drive/My Drive/CS582/topic1-data/BHLHE40/BHLHE40_GM12878_1.wtmx', 'drive/My Drive/CS582/topic1-data/BHLHE40/BHLHE40_GM12878_2.wtmx', 'drive/My Drive/CS582/topic1-data/BHLHE40/BHLHE40_FB_1.wtmx', 'drive/My Drive/CS582/topic1-data/BHLHE40/BHLHE40_GM12878_3.wtmx', 'drive/My Drive/CS582/topic1-data/BHLHE40/BHLHE40_GM12878_4.wtmx', 'drive/My Drive/CS582/topic1-data/BHLHE40/BHLHE40_GM12878_5.wtmx']\n",
            "[[110 133]\n",
            " [ 68  89]]\n",
            "              precision    recall  f1-score   support\n",
            "\n",
            "           0       0.62      0.45      0.52       243\n",
            "           1       0.40      0.57      0.47       157\n",
            "\n",
            "    accuracy                           0.50       400\n",
            "   macro avg       0.51      0.51      0.50       400\n",
            "weighted avg       0.53      0.50      0.50       400\n",
            "\n",
            "=== Statistics ===\n",
            "Test Accuracy: 0.497\n",
            "Test Sensitivity: 0.567\n",
            "Test Specificity: 0.453\n",
            "Test F1-Score: 0.470\n",
            "***************** EBF1 *****************\n",
            "['drive/My Drive/CS582/topic1-data/EBF1/EBF1_GM12878_2.wtmx', 'drive/My Drive/CS582/topic1-data/EBF1/EBF1_GM12878_4.wtmx', 'drive/My Drive/CS582/topic1-data/EBF1/EBF1_GM12878_5.wtmx', 'drive/My Drive/CS582/topic1-data/EBF1/EBF1_GM12878_3.wtmx', 'drive/My Drive/CS582/topic1-data/EBF1/EBF1_FB_1.wtmx', 'drive/My Drive/CS582/topic1-data/EBF1/EBF1_GM12878_1.wtmx']\n",
            "[[154  91]\n",
            " [ 78  77]]\n",
            "              precision    recall  f1-score   support\n",
            "\n",
            "           0       0.66      0.63      0.65       245\n",
            "           1       0.46      0.50      0.48       155\n",
            "\n",
            "    accuracy                           0.58       400\n",
            "   macro avg       0.56      0.56      0.56       400\n",
            "weighted avg       0.58      0.58      0.58       400\n",
            "\n",
            "=== Statistics ===\n",
            "Test Accuracy: 0.578\n",
            "Test Sensitivity: 0.497\n",
            "Test Specificity: 0.629\n",
            "Test F1-Score: 0.477\n",
            "***************** ZNF143 *****************\n",
            "['drive/My Drive/CS582/topic1-data/ZNF143/ZNF143_GM12878_5.wtmx', 'drive/My Drive/CS582/topic1-data/ZNF143/ZNF143_GM12878_1.wtmx', 'drive/My Drive/CS582/topic1-data/ZNF143/ZNF143_GM12878_3.wtmx', 'drive/My Drive/CS582/topic1-data/ZNF143/ZNF143_FB_1.wtmx', 'drive/My Drive/CS582/topic1-data/ZNF143/ZNF143_GM12878_4.wtmx', 'drive/My Drive/CS582/topic1-data/ZNF143/ZNF143_GM12878_2.wtmx', 'drive/My Drive/CS582/topic1-data/ZNF143/ZNF143_FB_2.wtmx']\n",
            "[[120 123]\n",
            " [ 82  75]]\n",
            "              precision    recall  f1-score   support\n",
            "\n",
            "           0       0.59      0.49      0.54       243\n",
            "           1       0.38      0.48      0.42       157\n",
            "\n",
            "    accuracy                           0.49       400\n",
            "   macro avg       0.49      0.49      0.48       400\n",
            "weighted avg       0.51      0.49      0.49       400\n",
            "\n",
            "=== Statistics ===\n",
            "Test Accuracy: 0.487\n",
            "Test Sensitivity: 0.478\n",
            "Test Specificity: 0.494\n",
            "Test F1-Score: 0.423\n",
            "***************** USF2 *****************\n",
            "['drive/My Drive/CS582/topic1-data/USF2/USF2_GM12878_2.wtmx', 'drive/My Drive/CS582/topic1-data/USF2/USF2_GM12878_3.wtmx', 'drive/My Drive/CS582/topic1-data/USF2/USF2_GM12878_5.wtmx', 'drive/My Drive/CS582/topic1-data/USF2/USF2_FB_1.wtmx', 'drive/My Drive/CS582/topic1-data/USF2/USF2_GM12878_1.wtmx', 'drive/My Drive/CS582/topic1-data/USF2/USF2_GM12878_4.wtmx', 'drive/My Drive/CS582/topic1-data/USF2/USF2_HOCO_A.wtmx']\n",
            "[[124 104]\n",
            " [ 97  75]]\n",
            "              precision    recall  f1-score   support\n",
            "\n",
            "           0       0.56      0.54      0.55       228\n",
            "           1       0.42      0.44      0.43       172\n",
            "\n",
            "    accuracy                           0.50       400\n",
            "   macro avg       0.49      0.49      0.49       400\n",
            "weighted avg       0.50      0.50      0.50       400\n",
            "\n",
            "=== Statistics ===\n",
            "Test Accuracy: 0.497\n",
            "Test Sensitivity: 0.436\n",
            "Test Specificity: 0.544\n",
            "Test F1-Score: 0.427\n",
            "***************** NFIC *****************\n",
            "['drive/My Drive/CS582/topic1-data/NFIC/NFIC_GM12878_1.wtmx', 'drive/My Drive/CS582/topic1-data/NFIC/NFIC_HOCO_A.wtmx', 'drive/My Drive/CS582/topic1-data/NFIC/NFIC_GM12878_4.wtmx', 'drive/My Drive/CS582/topic1-data/NFIC/NFIC_FB_1.wtmx', 'drive/My Drive/CS582/topic1-data/NFIC/NFIC_GM12878_3.wtmx', 'drive/My Drive/CS582/topic1-data/NFIC/NFIC_GM12878_2.wtmx', 'drive/My Drive/CS582/topic1-data/NFIC/NFIC_GM12878_5.wtmx']\n",
            "[[103 100]\n",
            " [ 90 107]]\n",
            "              precision    recall  f1-score   support\n",
            "\n",
            "           0       0.53      0.51      0.52       203\n",
            "           1       0.52      0.54      0.53       197\n",
            "\n",
            "    accuracy                           0.53       400\n",
            "   macro avg       0.53      0.53      0.52       400\n",
            "weighted avg       0.53      0.53      0.52       400\n",
            "\n",
            "=== Statistics ===\n",
            "Test Accuracy: 0.525\n",
            "Test Sensitivity: 0.543\n",
            "Test Specificity: 0.507\n",
            "Test F1-Score: 0.530\n",
            "***************** TCF12 *****************\n",
            "['drive/My Drive/CS582/topic1-data/TCF12/TCF12_GM12878_3.wtmx', 'drive/My Drive/CS582/topic1-data/TCF12/TCF12_GM12878_2.wtmx', 'drive/My Drive/CS582/topic1-data/TCF12/TCF12_FB_1.wtmx', 'drive/My Drive/CS582/topic1-data/TCF12/TCF12_GM12878_1.wtmx', 'drive/My Drive/CS582/topic1-data/TCF12/TCF12_GM12878_5.wtmx', 'drive/My Drive/CS582/topic1-data/TCF12/TCF12_GM12878_4.wtmx']\n",
            "[[115  92]\n",
            " [106  87]]\n",
            "              precision    recall  f1-score   support\n",
            "\n",
            "           0       0.52      0.56      0.54       207\n",
            "           1       0.49      0.45      0.47       193\n",
            "\n",
            "    accuracy                           0.51       400\n",
            "   macro avg       0.50      0.50      0.50       400\n",
            "weighted avg       0.50      0.51      0.50       400\n",
            "\n",
            "=== Statistics ===\n",
            "Test Accuracy: 0.505\n",
            "Test Sensitivity: 0.451\n",
            "Test Specificity: 0.556\n",
            "Test F1-Score: 0.468\n",
            "***************** REST *****************\n",
            "['drive/My Drive/CS582/topic1-data/REST/REST_GM12878_2.wtmx', 'drive/My Drive/CS582/topic1-data/REST/REST_GM12878_5.wtmx', 'drive/My Drive/CS582/topic1-data/REST/REST_GM12878_3.wtmx', 'drive/My Drive/CS582/topic1-data/REST/REST_FB_1.wtmx', 'drive/My Drive/CS582/topic1-data/REST/REST_GM12878_4.wtmx', 'drive/My Drive/CS582/topic1-data/REST/REST_HOCO_A.wtmx', 'drive/My Drive/CS582/topic1-data/REST/REST_GM12878_1.wtmx']\n",
            "[[183  75]\n",
            " [101  41]]\n",
            "              precision    recall  f1-score   support\n",
            "\n",
            "           0       0.64      0.71      0.68       258\n",
            "           1       0.35      0.29      0.32       142\n",
            "\n",
            "    accuracy                           0.56       400\n",
            "   macro avg       0.50      0.50      0.50       400\n",
            "weighted avg       0.54      0.56      0.55       400\n",
            "\n",
            "=== Statistics ===\n",
            "Test Accuracy: 0.560\n",
            "Test Sensitivity: 0.289\n",
            "Test Specificity: 0.709\n",
            "Test F1-Score: 0.318\n"
          ]
        }
      ]
    },
    {
      "cell_type": "code",
      "source": [
        "df_metrics"
      ],
      "metadata": {
        "colab": {
          "base_uri": "https://localhost:8080/",
          "height": 241
        },
        "id": "QfnelZ9XDSP-",
        "outputId": "71457ed7-183b-4a23-95b2-2100a30c50cd"
      },
      "execution_count": 37,
      "outputs": [
        {
          "output_type": "execute_result",
          "data": {
            "text/html": [
              "<div>\n",
              "<style scoped>\n",
              "    .dataframe tbody tr th:only-of-type {\n",
              "        vertical-align: middle;\n",
              "    }\n",
              "\n",
              "    .dataframe tbody tr th {\n",
              "        vertical-align: top;\n",
              "    }\n",
              "\n",
              "    .dataframe thead th {\n",
              "        text-align: right;\n",
              "    }\n",
              "</style>\n",
              "<table border=\"1\" class=\"dataframe\">\n",
              "  <thead>\n",
              "    <tr style=\"text-align: right;\">\n",
              "      <th></th>\n",
              "      <th>Metric</th>\n",
              "      <th>TCF3</th>\n",
              "      <th>SIN3A</th>\n",
              "      <th>PAX5</th>\n",
              "      <th>BATF</th>\n",
              "      <th>BCL3</th>\n",
              "      <th>RUNX3</th>\n",
              "      <th>MEF2A</th>\n",
              "      <th>ZEB1</th>\n",
              "      <th>MXI1</th>\n",
              "      <th>NFYB</th>\n",
              "      <th>IKZF1</th>\n",
              "      <th>YY1</th>\n",
              "      <th>SPI1</th>\n",
              "      <th>RELA</th>\n",
              "      <th>NFATC1</th>\n",
              "      <th>USF1</th>\n",
              "      <th>ELF1</th>\n",
              "      <th>MAX</th>\n",
              "      <th>BHLHE40</th>\n",
              "      <th>EBF1</th>\n",
              "      <th>ZNF143</th>\n",
              "      <th>USF2</th>\n",
              "      <th>NFIC</th>\n",
              "      <th>TCF12</th>\n",
              "      <th>REST</th>\n",
              "      <th>EGR1</th>\n",
              "    </tr>\n",
              "  </thead>\n",
              "  <tbody>\n",
              "    <tr>\n",
              "      <th>0</th>\n",
              "      <td>Accuracy</td>\n",
              "      <td>0.462500</td>\n",
              "      <td>0.495000</td>\n",
              "      <td>0.517500</td>\n",
              "      <td>0.515000</td>\n",
              "      <td>0.512500</td>\n",
              "      <td>0.500000</td>\n",
              "      <td>0.505000</td>\n",
              "      <td>0.465000</td>\n",
              "      <td>0.527500</td>\n",
              "      <td>0.515000</td>\n",
              "      <td>0.497500</td>\n",
              "      <td>0.555000</td>\n",
              "      <td>0.515000</td>\n",
              "      <td>0.520000</td>\n",
              "      <td>0.492500</td>\n",
              "      <td>0.502500</td>\n",
              "      <td>0.505000</td>\n",
              "      <td>0.550000</td>\n",
              "      <td>0.497500</td>\n",
              "      <td>0.577500</td>\n",
              "      <td>0.487500</td>\n",
              "      <td>0.497500</td>\n",
              "      <td>0.525000</td>\n",
              "      <td>0.505000</td>\n",
              "      <td>0.560000</td>\n",
              "      <td>NaN</td>\n",
              "    </tr>\n",
              "    <tr>\n",
              "      <th>1</th>\n",
              "      <td>Sensitivity</td>\n",
              "      <td>0.435233</td>\n",
              "      <td>0.456647</td>\n",
              "      <td>0.489474</td>\n",
              "      <td>0.490291</td>\n",
              "      <td>0.424731</td>\n",
              "      <td>0.500000</td>\n",
              "      <td>0.457265</td>\n",
              "      <td>0.417526</td>\n",
              "      <td>0.547486</td>\n",
              "      <td>0.340426</td>\n",
              "      <td>0.455128</td>\n",
              "      <td>0.490323</td>\n",
              "      <td>0.523810</td>\n",
              "      <td>0.441558</td>\n",
              "      <td>0.472637</td>\n",
              "      <td>0.468966</td>\n",
              "      <td>0.431818</td>\n",
              "      <td>0.513812</td>\n",
              "      <td>0.566879</td>\n",
              "      <td>0.496774</td>\n",
              "      <td>0.477707</td>\n",
              "      <td>0.436047</td>\n",
              "      <td>0.543147</td>\n",
              "      <td>0.450777</td>\n",
              "      <td>0.288732</td>\n",
              "      <td>NaN</td>\n",
              "    </tr>\n",
              "    <tr>\n",
              "      <th>2</th>\n",
              "      <td>Specificity</td>\n",
              "      <td>0.487923</td>\n",
              "      <td>0.524229</td>\n",
              "      <td>0.542857</td>\n",
              "      <td>0.541237</td>\n",
              "      <td>0.588785</td>\n",
              "      <td>0.500000</td>\n",
              "      <td>0.572289</td>\n",
              "      <td>0.509709</td>\n",
              "      <td>0.511312</td>\n",
              "      <td>0.610039</td>\n",
              "      <td>0.524590</td>\n",
              "      <td>0.595918</td>\n",
              "      <td>0.507109</td>\n",
              "      <td>0.569106</td>\n",
              "      <td>0.512563</td>\n",
              "      <td>0.521569</td>\n",
              "      <td>0.594444</td>\n",
              "      <td>0.579909</td>\n",
              "      <td>0.452675</td>\n",
              "      <td>0.628571</td>\n",
              "      <td>0.493827</td>\n",
              "      <td>0.543860</td>\n",
              "      <td>0.507389</td>\n",
              "      <td>0.555556</td>\n",
              "      <td>0.709302</td>\n",
              "      <td>NaN</td>\n",
              "    </tr>\n",
              "    <tr>\n",
              "      <th>3</th>\n",
              "      <td>F1_score</td>\n",
              "      <td>0.438642</td>\n",
              "      <td>0.438889</td>\n",
              "      <td>0.490765</td>\n",
              "      <td>0.510101</td>\n",
              "      <td>0.447592</td>\n",
              "      <td>0.484536</td>\n",
              "      <td>0.519417</td>\n",
              "      <td>0.430851</td>\n",
              "      <td>0.509091</td>\n",
              "      <td>0.331034</td>\n",
              "      <td>0.413994</td>\n",
              "      <td>0.460606</td>\n",
              "      <td>0.505102</td>\n",
              "      <td>0.414634</td>\n",
              "      <td>0.483461</td>\n",
              "      <td>0.405970</td>\n",
              "      <td>0.489691</td>\n",
              "      <td>0.508197</td>\n",
              "      <td>0.469657</td>\n",
              "      <td>0.476780</td>\n",
              "      <td>0.422535</td>\n",
              "      <td>0.427350</td>\n",
              "      <td>0.529703</td>\n",
              "      <td>0.467742</td>\n",
              "      <td>0.317829</td>\n",
              "      <td>NaN</td>\n",
              "    </tr>\n",
              "    <tr>\n",
              "      <th>4</th>\n",
              "      <td>ROC-AUC</td>\n",
              "      <td>0.461578</td>\n",
              "      <td>0.490438</td>\n",
              "      <td>0.516165</td>\n",
              "      <td>0.515764</td>\n",
              "      <td>0.506758</td>\n",
              "      <td>0.500000</td>\n",
              "      <td>0.514777</td>\n",
              "      <td>0.463617</td>\n",
              "      <td>0.529399</td>\n",
              "      <td>0.475232</td>\n",
              "      <td>0.489859</td>\n",
              "      <td>0.543120</td>\n",
              "      <td>0.515459</td>\n",
              "      <td>0.505332</td>\n",
              "      <td>0.492600</td>\n",
              "      <td>0.495267</td>\n",
              "      <td>0.513131</td>\n",
              "      <td>0.546860</td>\n",
              "      <td>0.509777</td>\n",
              "      <td>0.562673</td>\n",
              "      <td>0.485767</td>\n",
              "      <td>0.489953</td>\n",
              "      <td>0.525268</td>\n",
              "      <td>0.503166</td>\n",
              "      <td>0.499017</td>\n",
              "      <td>NaN</td>\n",
              "    </tr>\n",
              "  </tbody>\n",
              "</table>\n",
              "</div>"
            ],
            "text/plain": [
              "        Metric      TCF3     SIN3A      PAX5  ...      NFIC     TCF12      REST  EGR1\n",
              "0     Accuracy  0.462500  0.495000  0.517500  ...  0.525000  0.505000  0.560000   NaN\n",
              "1  Sensitivity  0.435233  0.456647  0.489474  ...  0.543147  0.450777  0.288732   NaN\n",
              "2  Specificity  0.487923  0.524229  0.542857  ...  0.507389  0.555556  0.709302   NaN\n",
              "3     F1_score  0.438642  0.438889  0.490765  ...  0.529703  0.467742  0.317829   NaN\n",
              "4      ROC-AUC  0.461578  0.490438  0.516165  ...  0.525268  0.503166  0.499017   NaN\n",
              "\n",
              "[5 rows x 27 columns]"
            ]
          },
          "metadata": {},
          "execution_count": 37
        }
      ]
    },
    {
      "cell_type": "code",
      "source": [
        "df_metrics.set_index('Metric').T.sort_values('F1_score', ascending=False)"
      ],
      "metadata": {
        "colab": {
          "base_uri": "https://localhost:8080/",
          "height": 855
        },
        "id": "veQ0920TQf4U",
        "outputId": "45bc51ac-b078-4e82-85bb-08b7837fb9ab"
      },
      "execution_count": 38,
      "outputs": [
        {
          "output_type": "execute_result",
          "data": {
            "text/html": [
              "<div>\n",
              "<style scoped>\n",
              "    .dataframe tbody tr th:only-of-type {\n",
              "        vertical-align: middle;\n",
              "    }\n",
              "\n",
              "    .dataframe tbody tr th {\n",
              "        vertical-align: top;\n",
              "    }\n",
              "\n",
              "    .dataframe thead th {\n",
              "        text-align: right;\n",
              "    }\n",
              "</style>\n",
              "<table border=\"1\" class=\"dataframe\">\n",
              "  <thead>\n",
              "    <tr style=\"text-align: right;\">\n",
              "      <th>Metric</th>\n",
              "      <th>Accuracy</th>\n",
              "      <th>Sensitivity</th>\n",
              "      <th>Specificity</th>\n",
              "      <th>F1_score</th>\n",
              "      <th>ROC-AUC</th>\n",
              "    </tr>\n",
              "  </thead>\n",
              "  <tbody>\n",
              "    <tr>\n",
              "      <th>NFIC</th>\n",
              "      <td>0.525</td>\n",
              "      <td>0.543147</td>\n",
              "      <td>0.507389</td>\n",
              "      <td>0.529703</td>\n",
              "      <td>0.525268</td>\n",
              "    </tr>\n",
              "    <tr>\n",
              "      <th>MEF2A</th>\n",
              "      <td>0.505</td>\n",
              "      <td>0.457265</td>\n",
              "      <td>0.572289</td>\n",
              "      <td>0.519417</td>\n",
              "      <td>0.514777</td>\n",
              "    </tr>\n",
              "    <tr>\n",
              "      <th>BATF</th>\n",
              "      <td>0.515</td>\n",
              "      <td>0.490291</td>\n",
              "      <td>0.541237</td>\n",
              "      <td>0.510101</td>\n",
              "      <td>0.515764</td>\n",
              "    </tr>\n",
              "    <tr>\n",
              "      <th>MXI1</th>\n",
              "      <td>0.5275</td>\n",
              "      <td>0.547486</td>\n",
              "      <td>0.511312</td>\n",
              "      <td>0.509091</td>\n",
              "      <td>0.529399</td>\n",
              "    </tr>\n",
              "    <tr>\n",
              "      <th>MAX</th>\n",
              "      <td>0.55</td>\n",
              "      <td>0.513812</td>\n",
              "      <td>0.579909</td>\n",
              "      <td>0.508197</td>\n",
              "      <td>0.54686</td>\n",
              "    </tr>\n",
              "    <tr>\n",
              "      <th>SPI1</th>\n",
              "      <td>0.515</td>\n",
              "      <td>0.52381</td>\n",
              "      <td>0.507109</td>\n",
              "      <td>0.505102</td>\n",
              "      <td>0.515459</td>\n",
              "    </tr>\n",
              "    <tr>\n",
              "      <th>PAX5</th>\n",
              "      <td>0.5175</td>\n",
              "      <td>0.489474</td>\n",
              "      <td>0.542857</td>\n",
              "      <td>0.490765</td>\n",
              "      <td>0.516165</td>\n",
              "    </tr>\n",
              "    <tr>\n",
              "      <th>ELF1</th>\n",
              "      <td>0.505</td>\n",
              "      <td>0.431818</td>\n",
              "      <td>0.594444</td>\n",
              "      <td>0.489691</td>\n",
              "      <td>0.513131</td>\n",
              "    </tr>\n",
              "    <tr>\n",
              "      <th>RUNX3</th>\n",
              "      <td>0.5</td>\n",
              "      <td>0.5</td>\n",
              "      <td>0.5</td>\n",
              "      <td>0.484536</td>\n",
              "      <td>0.5</td>\n",
              "    </tr>\n",
              "    <tr>\n",
              "      <th>NFATC1</th>\n",
              "      <td>0.4925</td>\n",
              "      <td>0.472637</td>\n",
              "      <td>0.512563</td>\n",
              "      <td>0.483461</td>\n",
              "      <td>0.4926</td>\n",
              "    </tr>\n",
              "    <tr>\n",
              "      <th>EBF1</th>\n",
              "      <td>0.5775</td>\n",
              "      <td>0.496774</td>\n",
              "      <td>0.628571</td>\n",
              "      <td>0.47678</td>\n",
              "      <td>0.562673</td>\n",
              "    </tr>\n",
              "    <tr>\n",
              "      <th>BHLHE40</th>\n",
              "      <td>0.4975</td>\n",
              "      <td>0.566879</td>\n",
              "      <td>0.452675</td>\n",
              "      <td>0.469657</td>\n",
              "      <td>0.509777</td>\n",
              "    </tr>\n",
              "    <tr>\n",
              "      <th>TCF12</th>\n",
              "      <td>0.505</td>\n",
              "      <td>0.450777</td>\n",
              "      <td>0.555556</td>\n",
              "      <td>0.467742</td>\n",
              "      <td>0.503166</td>\n",
              "    </tr>\n",
              "    <tr>\n",
              "      <th>YY1</th>\n",
              "      <td>0.555</td>\n",
              "      <td>0.490323</td>\n",
              "      <td>0.595918</td>\n",
              "      <td>0.460606</td>\n",
              "      <td>0.54312</td>\n",
              "    </tr>\n",
              "    <tr>\n",
              "      <th>BCL3</th>\n",
              "      <td>0.5125</td>\n",
              "      <td>0.424731</td>\n",
              "      <td>0.588785</td>\n",
              "      <td>0.447592</td>\n",
              "      <td>0.506758</td>\n",
              "    </tr>\n",
              "    <tr>\n",
              "      <th>SIN3A</th>\n",
              "      <td>0.495</td>\n",
              "      <td>0.456647</td>\n",
              "      <td>0.524229</td>\n",
              "      <td>0.438889</td>\n",
              "      <td>0.490438</td>\n",
              "    </tr>\n",
              "    <tr>\n",
              "      <th>TCF3</th>\n",
              "      <td>0.4625</td>\n",
              "      <td>0.435233</td>\n",
              "      <td>0.487923</td>\n",
              "      <td>0.438642</td>\n",
              "      <td>0.461578</td>\n",
              "    </tr>\n",
              "    <tr>\n",
              "      <th>ZEB1</th>\n",
              "      <td>0.465</td>\n",
              "      <td>0.417526</td>\n",
              "      <td>0.509709</td>\n",
              "      <td>0.430851</td>\n",
              "      <td>0.463617</td>\n",
              "    </tr>\n",
              "    <tr>\n",
              "      <th>USF2</th>\n",
              "      <td>0.4975</td>\n",
              "      <td>0.436047</td>\n",
              "      <td>0.54386</td>\n",
              "      <td>0.42735</td>\n",
              "      <td>0.489953</td>\n",
              "    </tr>\n",
              "    <tr>\n",
              "      <th>ZNF143</th>\n",
              "      <td>0.4875</td>\n",
              "      <td>0.477707</td>\n",
              "      <td>0.493827</td>\n",
              "      <td>0.422535</td>\n",
              "      <td>0.485767</td>\n",
              "    </tr>\n",
              "    <tr>\n",
              "      <th>RELA</th>\n",
              "      <td>0.52</td>\n",
              "      <td>0.441558</td>\n",
              "      <td>0.569106</td>\n",
              "      <td>0.414634</td>\n",
              "      <td>0.505332</td>\n",
              "    </tr>\n",
              "    <tr>\n",
              "      <th>IKZF1</th>\n",
              "      <td>0.4975</td>\n",
              "      <td>0.455128</td>\n",
              "      <td>0.52459</td>\n",
              "      <td>0.413994</td>\n",
              "      <td>0.489859</td>\n",
              "    </tr>\n",
              "    <tr>\n",
              "      <th>USF1</th>\n",
              "      <td>0.5025</td>\n",
              "      <td>0.468966</td>\n",
              "      <td>0.521569</td>\n",
              "      <td>0.40597</td>\n",
              "      <td>0.495267</td>\n",
              "    </tr>\n",
              "    <tr>\n",
              "      <th>NFYB</th>\n",
              "      <td>0.515</td>\n",
              "      <td>0.340426</td>\n",
              "      <td>0.610039</td>\n",
              "      <td>0.331034</td>\n",
              "      <td>0.475232</td>\n",
              "    </tr>\n",
              "    <tr>\n",
              "      <th>REST</th>\n",
              "      <td>0.56</td>\n",
              "      <td>0.288732</td>\n",
              "      <td>0.709302</td>\n",
              "      <td>0.317829</td>\n",
              "      <td>0.499017</td>\n",
              "    </tr>\n",
              "    <tr>\n",
              "      <th>EGR1</th>\n",
              "      <td>NaN</td>\n",
              "      <td>NaN</td>\n",
              "      <td>NaN</td>\n",
              "      <td>NaN</td>\n",
              "      <td>NaN</td>\n",
              "    </tr>\n",
              "  </tbody>\n",
              "</table>\n",
              "</div>"
            ],
            "text/plain": [
              "Metric  Accuracy Sensitivity Specificity  F1_score   ROC-AUC\n",
              "NFIC       0.525    0.543147    0.507389  0.529703  0.525268\n",
              "MEF2A      0.505    0.457265    0.572289  0.519417  0.514777\n",
              "BATF       0.515    0.490291    0.541237  0.510101  0.515764\n",
              "MXI1      0.5275    0.547486    0.511312  0.509091  0.529399\n",
              "MAX         0.55    0.513812    0.579909  0.508197   0.54686\n",
              "SPI1       0.515     0.52381    0.507109  0.505102  0.515459\n",
              "PAX5      0.5175    0.489474    0.542857  0.490765  0.516165\n",
              "ELF1       0.505    0.431818    0.594444  0.489691  0.513131\n",
              "RUNX3        0.5         0.5         0.5  0.484536       0.5\n",
              "NFATC1    0.4925    0.472637    0.512563  0.483461    0.4926\n",
              "EBF1      0.5775    0.496774    0.628571   0.47678  0.562673\n",
              "BHLHE40   0.4975    0.566879    0.452675  0.469657  0.509777\n",
              "TCF12      0.505    0.450777    0.555556  0.467742  0.503166\n",
              "YY1        0.555    0.490323    0.595918  0.460606   0.54312\n",
              "BCL3      0.5125    0.424731    0.588785  0.447592  0.506758\n",
              "SIN3A      0.495    0.456647    0.524229  0.438889  0.490438\n",
              "TCF3      0.4625    0.435233    0.487923  0.438642  0.461578\n",
              "ZEB1       0.465    0.417526    0.509709  0.430851  0.463617\n",
              "USF2      0.4975    0.436047     0.54386   0.42735  0.489953\n",
              "ZNF143    0.4875    0.477707    0.493827  0.422535  0.485767\n",
              "RELA        0.52    0.441558    0.569106  0.414634  0.505332\n",
              "IKZF1     0.4975    0.455128     0.52459  0.413994  0.489859\n",
              "USF1      0.5025    0.468966    0.521569   0.40597  0.495267\n",
              "NFYB       0.515    0.340426    0.610039  0.331034  0.475232\n",
              "REST        0.56    0.288732    0.709302  0.317829  0.499017\n",
              "EGR1         NaN         NaN         NaN       NaN       NaN"
            ]
          },
          "metadata": {},
          "execution_count": 38
        }
      ]
    },
    {
      "cell_type": "code",
      "source": [
        "df_metrics.to_csv('drive/My Drive/CS582/baseline.csv')"
      ],
      "metadata": {
        "id": "2gMftBBHR8DL"
      },
      "execution_count": 39,
      "outputs": []
    },
    {
      "cell_type": "code",
      "source": [
        "plt.figure(figsize=(7,7))\n",
        "plt.title(\" Bindings Histogram\")\n",
        "plt.xlabel(\"Binding Value\")\n",
        "plt.ylabel(\"Count\")\n",
        "plt.hist(max_llr_score, bins=40)"
      ],
      "metadata": {
        "colab": {
          "base_uri": "https://localhost:8080/",
          "height": 696
        },
        "id": "dwBt3hKZyGCV",
        "outputId": "ac1f9c37-6507-4288-af3b-f5aa471abb5c"
      },
      "execution_count": 69,
      "outputs": [
        {
          "output_type": "execute_result",
          "data": {
            "text/plain": [
              "(array([ 4.,  3.,  2.,  2.,  4.,  4., 13., 13., 12., 11., 19., 19., 26.,\n",
              "        20., 29., 25., 24., 32., 30., 42., 50., 64., 77., 67., 67., 71.,\n",
              "        64., 46., 44., 20., 32., 25., 12.,  7.,  6.,  4.,  5.,  2.,  2.,\n",
              "         1.]),\n",
              " array([ 1.72534275,  2.03634369,  2.34734464,  2.65834559,  2.96934653,\n",
              "         3.28034748,  3.59134842,  3.90234937,  4.21335032,  4.52435126,\n",
              "         4.83535221,  5.14635315,  5.4573541 ,  5.76835505,  6.07935599,\n",
              "         6.39035694,  6.70135788,  7.01235883,  7.32335978,  7.63436072,\n",
              "         7.94536167,  8.25636261,  8.56736356,  8.87836451,  9.18936545,\n",
              "         9.5003664 ,  9.81136734, 10.12236829, 10.43336924, 10.74437018,\n",
              "        11.05537113, 11.36637207, 11.67737302, 11.98837397, 12.29937491,\n",
              "        12.61037586, 12.9213768 , 13.23237775, 13.5433787 , 13.85437964,\n",
              "        14.16538059]),\n",
              " <a list of 40 Patch objects>)"
            ]
          },
          "metadata": {},
          "execution_count": 69
        },
        {
          "output_type": "display_data",
          "data": {
            "image/png": "[encoded data removed]",
            "text/plain": [
              "<Figure size 504x504 with 1 Axes>"
            ]
          },
          "metadata": {
            "needs_background": "light"
          }
        }
      ]
    },
    {
      "cell_type": "code",
      "source": [
        "def correlation_plot(binding_scores, llr_scores):\n",
        "    plt.figure(figsize=(7,7))\n",
        "    plt.title(\"Correlation between binding strength and maximum LLR score - SIN3A\")\n",
        "    plt.xlabel(\"Binding Value\")\n",
        "    plt.ylabel(\"MAX LLR score\")\n",
        "    plt.scatter(binding_scores, llr_scores)\n",
        "    plt.savefig('correlation.pdf')"
      ],
      "metadata": {
        "id": "EuLpAeThqhLp"
      },
      "execution_count": 64,
      "outputs": []
    },
    {
      "cell_type": "code",
      "source": [
        "correlation_plot(max_llr_score_test, y_true_test)"
      ],
      "metadata": {
        "colab": {
          "base_uri": "https://localhost:8080/",
          "height": 458
        },
        "id": "vgRUIb_CvfyI",
        "outputId": "aaed6da0-c7c1-4284-a5ac-730f808abd40"
      },
      "execution_count": 67,
      "outputs": [
        {
          "output_type": "display_data",
          "data": {
            "image/png": "[encoded data removed]",
            "text/plain": [
              "<Figure size 504x504 with 1 Axes>"
            ]
          },
          "metadata": {
            "needs_background": "light"
          }
        }
      ]
    },
    {
      "cell_type": "code",
      "source": [
        "len(max_llr_score)"
      ],
      "metadata": {
        "colab": {
          "base_uri": "https://localhost:8080/"
        },
        "id": "R0XsLfhrup5d",
        "outputId": "cd8fc07d-8860-45fe-886a-8f5945e6d864"
      },
      "execution_count": 48,
      "outputs": [
        {
          "output_type": "execute_result",
          "data": {
            "text/plain": [
              "1000"
            ]
          },
          "metadata": {},
          "execution_count": 48
        }
      ]
    },
    {
      "cell_type": "code",
      "source": [
        "len(y_true)"
      ],
      "metadata": {
        "colab": {
          "base_uri": "https://localhost:8080/"
        },
        "id": "mR4j4qC7urlO",
        "outputId": "7e2638af-5062-456c-9a1d-79c17fa7cfd6"
      },
      "execution_count": 49,
      "outputs": [
        {
          "output_type": "execute_result",
          "data": {
            "text/plain": [
              "1000"
            ]
          },
          "metadata": {},
          "execution_count": 49
        }
      ]
    },
    {
      "cell_type": "code",
      "source": [
        "atcg_ratio"
      ],
      "metadata": {
        "colab": {
          "base_uri": "https://localhost:8080/"
        },
        "id": "FZKH-VZ25wHb",
        "outputId": "f7bcb896-08ce-492e-d96b-6c1f8ec41c30"
      },
      "execution_count": 68,
      "outputs": [
        {
          "output_type": "execute_result",
          "data": {
            "text/plain": [
              "array([0.27806587, 0.22206387, 0.22169261, 0.27817764])"
            ]
          },
          "metadata": {},
          "execution_count": 68
        }
      ]
    },
    {
      "cell_type": "code",
      "source": [
        "sequence"
      ],
      "metadata": {
        "colab": {
          "base_uri": "https://localhost:8080/"
        },
        "id": "kHueoTgk2rZl",
        "outputId": "52ad3ffa-6cd6-4253-89b8-f7193ea79e00"
      },
      "execution_count": 45,
      "outputs": [
        {
          "output_type": "execute_result",
          "data": {
            "text/plain": [
              "tensor([[1., 0., 0., 0.],\n",
              "        [0., 0., 1., 0.],\n",
              "        [0., 1., 0., 0.],\n",
              "        ...,\n",
              "        [0., 0., 0., 1.],\n",
              "        [0., 0., 1., 0.],\n",
              "        [1., 0., 0., 0.]])"
            ]
          },
          "metadata": {},
          "execution_count": 45
        }
      ]
    },
    {
      "cell_type": "code",
      "source": [
        "len(sequence)"
      ],
      "metadata": {
        "colab": {
          "base_uri": "https://localhost:8080/"
        },
        "id": "gTD93PbS29Ah",
        "outputId": "f89ff3b3-e26a-4b92-abff-2c4dba5c1c2b"
      },
      "execution_count": 46,
      "outputs": [
        {
          "output_type": "execute_result",
          "data": {
            "text/plain": [
              "501000"
            ]
          },
          "metadata": {},
          "execution_count": 46
        }
      ]
    },
    {
      "cell_type": "code",
      "source": [
        "len(train_set)"
      ],
      "metadata": {
        "colab": {
          "base_uri": "https://localhost:8080/"
        },
        "id": "9dBxwHIMaFj-",
        "outputId": "ad3ca36f-4454-47d1-c430-22b2fe841fc0"
      },
      "execution_count": 16,
      "outputs": [
        {
          "output_type": "execute_result",
          "data": {
            "text/plain": [
              "800"
            ]
          },
          "metadata": {},
          "execution_count": 16
        }
      ]
    },
    {
      "cell_type": "code",
      "metadata": {
        "colab": {
          "base_uri": "https://localhost:8080/"
        },
        "id": "ppnKUK3NgGWL",
        "outputId": "e2c65b68-3cc7-4da9-fe09-d936bd662387"
      },
      "source": [
        "for data in train_loader:\n",
        "    X, y = data \n",
        "    print(X.shape)\n",
        "    print(y.shape)\n",
        "    break"
      ],
      "execution_count": 12,
      "outputs": [
        {
          "output_type": "stream",
          "name": "stdout",
          "text": [
            "torch.Size([100, 1, 501, 4])\n",
            "torch.Size([100, 1])\n"
          ]
        }
      ]
    },
    {
      "cell_type": "code",
      "metadata": {
        "id": "7gx-Cx4XeEcb"
      },
      "source": [
        "def plot_binding_histogram(data_loader, data_name):\n",
        "    binding_values = []\n",
        "    for data in data_loader:\n",
        "        _, y = data\n",
        "        binding_values.extend(torch.reshape(y, (-1,))) \n",
        "    binding_values = torch.stack(binding_values)\n",
        "    plt.figure(figsize=(7,7))\n",
        "    plt.title(data_name + \" Bindings Histogram\")\n",
        "    plt.xlabel(\"Binding Value\")\n",
        "    plt.ylabel(\"Count\")\n",
        "    plt.hist(binding_values, bins=40)\n",
        "    plt.axvline(binding_values.median(), color='k', linestyle='dashed', linewidth=1)\n",
        "    plt.axvline(binding_values.mean(), color='r', linestyle='dashed', linewidth=1)\n",
        "    plt.text(11,200,'Median',rotation=90)\n",
        "    plt.text(20,200,'Mean',rotation=90, color='r')\n",
        "    plt.savefig('median_mean.pdf')"
      ],
      "execution_count": 53,
      "outputs": []
    },
    {
      "cell_type": "code",
      "metadata": {
        "colab": {
          "base_uri": "https://localhost:8080/",
          "height": 458
        },
        "id": "aal7iBjxhii-",
        "outputId": "d5eb2839-49fa-4cb7-eff1-f79e6b043fc4"
      },
      "source": [
        "plot_binding_histogram(train_loader, \"SIN3A\")"
      ],
      "execution_count": 54,
      "outputs": [
        {
          "output_type": "display_data",
          "data": {
            "image/png": "[encoded data removed]",
            "text/plain": [
              "<Figure size 504x504 with 1 Axes>"
            ]
          },
          "metadata": {
            "needs_background": "light"
          }
        }
      ]
    },
    {
      "cell_type": "code",
      "metadata": {
        "colab": {
          "base_uri": "https://localhost:8080/",
          "height": 458
        },
        "id": "_fLghv4GgCn7",
        "outputId": "7486863d-e37d-48f1-9ca2-4d29dac00d9c"
      },
      "source": [
        "plot_binding_histogram(train_loader, \"BAFT\")"
      ],
      "execution_count": null,
      "outputs": [
        {
          "output_type": "display_data",
          "data": {
            "image/png": "[encoded data removed]",
            "text/plain": [
              "<Figure size 504x504 with 1 Axes>"
            ]
          },
          "metadata": {
            "needs_background": "light"
          }
        }
      ]
    },
    {
      "cell_type": "code",
      "metadata": {
        "id": "fmOuuM-aYdeH"
      },
      "source": [
        "class BindingPredictionCNN(Module):\n",
        "    def __init__(self):\n",
        "        super().__init__()\n",
        "        self.conv1 = Conv2d(in_channels=1, out_channels=10, kernel_size=(20, 4), stride=1)\n",
        "        self.conv2 = Conv1d(in_channels=10, out_channels=20, kernel_size=14, stride=1)\n",
        "        self.conv3 = Conv1d(in_channels=20, out_channels=30, kernel_size=10, stride=1)\n",
        "\n",
        "        self.fc1 = Linear(in_features=30*105, out_features=1500)\n",
        "        self.fc2 = Linear(in_features=1500, out_features=250)\n",
        "        self.out = Linear(in_features=250, out_features=1)\n",
        "\n",
        "    def forward(self, x):\n",
        "        x = F.relu((self.conv1(x)).squeeze())\n",
        "        x = F.max_pool1d(x, 2, 2)\n",
        "        x = F.relu(self.conv2(x))\n",
        "        x = F.max_pool1d(x, 2, 2)\n",
        "        x = F.relu(self.conv3(x))\n",
        "        x = x.view(x.size(0), -1)\n",
        "        x = F.relu(self.fc1(x))\n",
        "        x = F.relu(self.fc2(x))\n",
        "        x = self.out(x)\n",
        "        return x"
      ],
      "execution_count": null,
      "outputs": []
    },
    {
      "cell_type": "code",
      "metadata": {
        "id": "EvoY3tEbQVRt",
        "colab": {
          "base_uri": "https://localhost:8080/"
        },
        "outputId": "65ac6243-11f2-4260-d243-2675f35bb32d"
      },
      "source": [
        "model = BindingPredictionCNN()\n",
        "model = model.to(device)\n",
        "criterion = nn.MSELoss()\n",
        "optimizer = torch.optim.Adam(model.parameters(), lr=0.001)\n",
        "print(model)"
      ],
      "execution_count": null,
      "outputs": [
        {
          "output_type": "stream",
          "name": "stdout",
          "text": [
            "BindingPredictionCNN(\n",
            "  (conv1): Conv2d(1, 10, kernel_size=(20, 4), stride=(1, 1))\n",
            "  (conv2): Conv1d(10, 20, kernel_size=(14,), stride=(1,))\n",
            "  (conv3): Conv1d(20, 30, kernel_size=(10,), stride=(1,))\n",
            "  (fc1): Linear(in_features=3150, out_features=1500, bias=True)\n",
            "  (fc2): Linear(in_features=1500, out_features=250, bias=True)\n",
            "  (out): Linear(in_features=250, out_features=1, bias=True)\n",
            ")\n"
          ]
        }
      ]
    },
    {
      "cell_type": "code",
      "metadata": {
        "id": "rw-I4Bnwk9hB"
      },
      "source": [
        "def train(net, train_loader, val_loader, optimizer, criterion, epoch_num=100):\n",
        "    train_log = []\n",
        "    val_log = []\n",
        "\n",
        "    for epoch in range(1, epoch_num+1):\n",
        "        train_loss = []\n",
        "        net.train()\n",
        "        for (x, y) in tqdm(train_loader, desc='Training epoch ' + str(epoch), leave=False):        \n",
        "            x, y = x.to(device), y.to(device)        \n",
        "            optimizer.zero_grad()\n",
        "            outputs = net(x)\n",
        "            loss = criterion(outputs.float(), y.float())      \n",
        "            loss.backward()                \n",
        "            optimizer.step()        \n",
        "            train_loss.append(loss.item())\n",
        "        train_log.append(np.mean(train_loss))\n",
        "        print('============ epoch %d =============' %epoch)\n",
        "        print('train loss: %.3f' % np.mean(train_loss), flush=True, end='')\n",
        "\n",
        "        test_loss = []\n",
        "        net.eval()\n",
        "        with torch.no_grad():                \n",
        "            for (x, y) in tqdm(val_loader, desc='Validation ', leave=False):         \n",
        "                x, y = x.to(device), y.to(device)        \n",
        "                outputs = net(x)\n",
        "                loss = criterion(outputs.float(), y.float())            \n",
        "                test_loss.append(loss.item())\n",
        "        val_log.append(np.mean(test_loss)) \n",
        "        print('validation loss: %.3f' % np.mean(test_loss), flush=True, end='')\n",
        "    return train_log, val_log"
      ],
      "execution_count": null,
      "outputs": []
    },
    {
      "cell_type": "code",
      "metadata": {
        "id": "Ozt26bTnyO2T"
      },
      "source": [
        "train_log, val_log = train(model, train_loader, val_loader, optimizer, criterion)"
      ],
      "execution_count": null,
      "outputs": []
    },
    {
      "cell_type": "code",
      "metadata": {
        "id": "zmkba7VVM2eD"
      },
      "source": [
        "plot_loss(train_log, val_log, 100)"
      ],
      "execution_count": null,
      "outputs": []
    },
    {
      "cell_type": "code",
      "metadata": {
        "id": "1CQw5-GYkJA-"
      },
      "source": [
        "def test(net, test_loader):\n",
        "    y_true = []\n",
        "    y_pred = []\n",
        "    net.eval()\n",
        "    with torch.no_grad():                \n",
        "        for (x_input,labels) in tqdm(test_loader, desc='Test ', leave=False):         \n",
        "            x_input, labels = x_input.to(device), labels.to(device)        \n",
        "            outputs = net(x_input)\n",
        "            y_true.extend(labels.float().detach().cpu().numpy())\n",
        "            y_pred.extend(outputs.float().detach().cpu().numpy())\n",
        "    y_true = np.array(y_true)\n",
        "    y_pred = np.array(y_pred)\n",
        "    return y_true, y_pred"
      ],
      "execution_count": null,
      "outputs": []
    },
    {
      "cell_type": "code",
      "metadata": {
        "id": "KMvWTnp-vKyg"
      },
      "source": [
        "def plot_loss(train_log, val_log, epoch_num):\n",
        "    plt.figure(figsize=(7,7))\n",
        "    plt.plot(range(1, epoch_num + 1), train_log, color='C0', label='training')\n",
        "    plt.plot(range(1, epoch_num + 1), val_log, color='C1', label='validation')\n",
        "    plt.title('Training and Validation Loss')\n",
        "    plt.xlabel('Epoch Number')\n",
        "    plt.ylabel('MSE Loss')\n",
        "    plt.legend(loc='best')\n",
        "    plt.show()"
      ],
      "execution_count": null,
      "outputs": []
    },
    {
      "cell_type": "code",
      "metadata": {
        "id": "q82LilNMUhFm"
      },
      "source": [
        "y_true, y_pred = test(model, test_loader)"
      ],
      "execution_count": null,
      "outputs": []
    },
    {
      "cell_type": "code",
      "metadata": {
        "id": "9AcUXb9NVENM"
      },
      "source": [
        "print(\"Test MSE: \", mean_squared_error(y_true, y_pred))"
      ],
      "execution_count": null,
      "outputs": []
    },
    {
      "cell_type": "markdown",
      "metadata": {
        "id": "5URz7t50cTQq"
      },
      "source": [
        "# Classification"
      ]
    },
    {
      "cell_type": "code",
      "metadata": {
        "id": "PNDgk3dYbjnW"
      },
      "source": [
        "binding_threshold = np.median(binding_values)"
      ],
      "execution_count": 16,
      "outputs": []
    },
    {
      "cell_type": "code",
      "metadata": {
        "colab": {
          "base_uri": "https://localhost:8080/"
        },
        "id": "SZkMqpn6fnL2",
        "outputId": "8826239c-347e-4f79-d00a-f6e9ab23139b"
      },
      "source": [
        "binding_threshold"
      ],
      "execution_count": 17,
      "outputs": [
        {
          "output_type": "execute_result",
          "data": {
            "text/plain": [
              "0.386426"
            ]
          },
          "metadata": {},
          "execution_count": 17
        }
      ]
    },
    {
      "cell_type": "code",
      "metadata": {
        "id": "9E83Rqi_cSCo"
      },
      "source": [
        "y_pred_binary = (y_pred > binding_threshold) * 1\n",
        "y_true_binary = (y_true > binding_threshold) * 1"
      ],
      "execution_count": null,
      "outputs": []
    },
    {
      "cell_type": "code",
      "metadata": {
        "id": "rgkQ10xsemGl"
      },
      "source": [
        "def classification_statistics(y_true_binary, y_pred_binary):\n",
        "    tn, fp, fn, tp = confusion_matrix(y_true_binary, y_pred_binary).ravel()\n",
        "\n",
        "    accuracy = (tp + tn) / (tp + tn + fp + fn)\n",
        "    sensitivity = tp / (tp + fn)\n",
        "    specificity = tn / (tn + fp)\n",
        "    f1_score = 2 * tp / (2 * tp + fp + fn)\n",
        "\n",
        "    print(confusion_matrix(y_true_binary, y_pred_binary))\n",
        "    print(classification_report(y_true_binary, y_pred_binary))\n",
        "    print(\"=== Statistics ===\")\n",
        "    print(\"Test Accuracy: %.3f\" % accuracy)\n",
        "    print(\"Test Sensitivity: %.3f\" % sensitivity)\n",
        "    print(\"Test Specificity: %.3f\" % specificity)\n",
        "    print(\"Test F1-Score: %.3f\" % f1_score)"
      ],
      "execution_count": null,
      "outputs": []
    },
    {
      "cell_type": "code",
      "metadata": {
        "colab": {
          "base_uri": "https://localhost:8080/"
        },
        "id": "UcTHfuhiekSs",
        "outputId": "0ea04051-2dbe-4464-d7ff-1acbc0d0b1a3"
      },
      "source": [
        "classification_statistics(y_true_binary, y_pred_binary)"
      ],
      "execution_count": null,
      "outputs": [
        {
          "output_type": "stream",
          "name": "stdout",
          "text": [
            "[[ 80 114]\n",
            " [ 94 112]]\n",
            "              precision    recall  f1-score   support\n",
            "\n",
            "           0       0.46      0.41      0.43       194\n",
            "           1       0.50      0.54      0.52       206\n",
            "\n",
            "    accuracy                           0.48       400\n",
            "   macro avg       0.48      0.48      0.48       400\n",
            "weighted avg       0.48      0.48      0.48       400\n",
            "\n",
            "=== Statistics ===\n",
            "Test Accuracy: 0.480\n",
            "Test Sensitivity: 0.544\n",
            "Test Specificity: 0.412\n",
            "Test F1-Score: 0.519\n"
          ]
        }
      ]
    },
    {
      "cell_type": "code",
      "metadata": {
        "colab": {
          "base_uri": "https://localhost:8080/",
          "height": 265
        },
        "id": "T5NoF95-hm1q",
        "outputId": "c41f8484-0dc0-4d23-c001-87a62c863662"
      },
      "source": [
        "fpr, tpr, _ = roc_curve(y_true_binary,  y_pred_binary)\n",
        "auc = roc_auc_score(y_true_binary, y_pred_binary)\n",
        "plt.plot(fpr,tpr,label=\"auc=\"+str(auc))\n",
        "plt.legend()\n",
        "plt.show()"
      ],
      "execution_count": null,
      "outputs": [
        {
          "output_type": "display_data",
          "data": {
            "image/png": "[encoded data removed]",
            "text/plain": [
              "<Figure size 432x288 with 1 Axes>"
            ]
          },
          "metadata": {
            "needs_background": "light"
          }
        }
      ]
    }
  ]
}